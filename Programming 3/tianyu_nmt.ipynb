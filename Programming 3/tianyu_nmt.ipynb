{
  "nbformat": 4,
  "nbformat_minor": 0,
  "metadata": {
    "colab": {
      "name": "nmt.ipynb",
      "provenance": [],
      "collapsed_sections": [],
      "toc_visible": true
    },
    "kernelspec": {
      "name": "python3",
      "display_name": "Python 3"
    },
    "accelerator": "GPU"
  },
  "cells": [
    {
      "cell_type": "markdown",
      "metadata": {
        "id": "TjPTaRB4mpCd",
        "colab_type": "text"
      },
      "source": [
        "# Colab FAQ\n",
        "\n",
        "For some basic overview and features offered in Colab notebooks, check out: [Overview of Colaboratory Features](https://colab.research.google.com/notebooks/basic_features_overview.ipynb)\n",
        "\n",
        "You need to use the colab GPU for this assignmentby selecting:\n",
        "\n",
        "> **Runtime**   →   **Change runtime type**   →   **Hardware Accelerator: GPU**"
      ]
    },
    {
      "cell_type": "markdown",
      "metadata": {
        "id": "s9IS9B9-yUU5",
        "colab_type": "text"
      },
      "source": [
        "## Setup PyTorch\n",
        "All files are stored at /content/csc421/a3/ folder\n"
      ]
    },
    {
      "cell_type": "markdown",
      "metadata": {
        "id": "axbuunY8UdTB",
        "colab_type": "text"
      },
      "source": [
        ""
      ]
    },
    {
      "cell_type": "code",
      "metadata": {
        "id": "Z-6MQhMOlHXD",
        "colab_type": "code",
        "colab": {
          "base_uri": "https://localhost:8080/",
          "height": 590
        },
        "outputId": "a9b31a45-6a61-41ec-b981-e2192e40061e"
      },
      "source": [
        "######################################################################\n",
        "# Setup python environment and change the current working directory\n",
        "######################################################################\n",
        "!pip install torch torchvision\n",
        "!pip install Pillow==4.0.0\n",
        "%mkdir -p /content/csc421/a3/\n",
        "%cd /content/csc421/a3"
      ],
      "execution_count": 1,
      "outputs": [
        {
          "output_type": "stream",
          "text": [
            "Requirement already satisfied: torch in /usr/local/lib/python3.6/dist-packages (1.4.0)\n",
            "Requirement already satisfied: torchvision in /usr/local/lib/python3.6/dist-packages (0.5.0)\n",
            "Requirement already satisfied: numpy in /usr/local/lib/python3.6/dist-packages (from torchvision) (1.17.5)\n",
            "Requirement already satisfied: six in /usr/local/lib/python3.6/dist-packages (from torchvision) (1.12.0)\n",
            "Collecting pillow>=4.1.1\n",
            "  Using cached https://files.pythonhosted.org/packages/19/5e/23dcc0ce3cc2abe92efd3cd61d764bee6ccdf1b667a1fb566f45dc249953/Pillow-7.0.0-cp36-cp36m-manylinux1_x86_64.whl\n",
            "\u001b[31mERROR: albumentations 0.1.12 has requirement imgaug<0.2.7,>=0.2.5, but you'll have imgaug 0.2.9 which is incompatible.\u001b[0m\n",
            "Installing collected packages: pillow\n",
            "  Found existing installation: Pillow 4.0.0\n",
            "    Uninstalling Pillow-4.0.0:\n",
            "      Successfully uninstalled Pillow-4.0.0\n",
            "Successfully installed pillow-7.0.0\n"
          ],
          "name": "stdout"
        },
        {
          "output_type": "display_data",
          "data": {
            "application/vnd.colab-display-data+json": {
              "pip_warning": {
                "packages": [
                  "PIL"
                ]
              }
            }
          },
          "metadata": {
            "tags": []
          }
        },
        {
          "output_type": "stream",
          "text": [
            "Collecting Pillow==4.0.0\n",
            "  Using cached https://files.pythonhosted.org/packages/37/e8/b3fbf87b0188d22246678f8cd61e23e31caa1769ebc06f1664e2e5fe8a17/Pillow-4.0.0-cp36-cp36m-manylinux1_x86_64.whl\n",
            "Requirement already satisfied: olefile in /usr/local/lib/python3.6/dist-packages (from Pillow==4.0.0) (0.46)\n",
            "\u001b[31mERROR: torchvision 0.5.0 has requirement pillow>=4.1.1, but you'll have pillow 4.0.0 which is incompatible.\u001b[0m\n",
            "\u001b[31mERROR: scikit-image 0.16.2 has requirement pillow>=4.3.0, but you'll have pillow 4.0.0 which is incompatible.\u001b[0m\n",
            "\u001b[31mERROR: albumentations 0.1.12 has requirement imgaug<0.2.7,>=0.2.5, but you'll have imgaug 0.2.9 which is incompatible.\u001b[0m\n",
            "Installing collected packages: Pillow\n",
            "  Found existing installation: Pillow 7.0.0\n",
            "    Uninstalling Pillow-7.0.0:\n",
            "      Successfully uninstalled Pillow-7.0.0\n",
            "Successfully installed Pillow-4.0.0\n"
          ],
          "name": "stdout"
        },
        {
          "output_type": "display_data",
          "data": {
            "application/vnd.colab-display-data+json": {
              "pip_warning": {
                "packages": [
                  "PIL"
                ]
              }
            }
          },
          "metadata": {
            "tags": []
          }
        },
        {
          "output_type": "stream",
          "text": [
            "/content/csc421/a3\n"
          ],
          "name": "stdout"
        }
      ]
    },
    {
      "cell_type": "markdown",
      "metadata": {
        "id": "9DaTdRNuUra7",
        "colab_type": "text"
      },
      "source": [
        "# Helper code"
      ]
    },
    {
      "cell_type": "markdown",
      "metadata": {
        "id": "4BIpGwANoQOg",
        "colab_type": "text"
      },
      "source": [
        "## Utility functions"
      ]
    },
    {
      "cell_type": "code",
      "metadata": {
        "id": "D-UJHBYZkh7f",
        "colab_type": "code",
        "colab": {}
      },
      "source": [
        "import os\n",
        "import pdb\n",
        "import argparse\n",
        "import pickle as pkl\n",
        "\n",
        "from collections import defaultdict\n",
        "\n",
        "import numpy as np\n",
        "import matplotlib as mpl\n",
        "import matplotlib.pyplot as plt\n",
        "import matplotlib.ticker as ticker\n",
        "\n",
        "import torch\n",
        "import torch.nn as nn\n",
        "import torch.optim as optim\n",
        "import torch.nn.functional as F\n",
        "from torch.autograd import Variable\n",
        "\n",
        "from six.moves.urllib.request import urlretrieve\n",
        "import tarfile\n",
        "import pickle\n",
        "import sys\n",
        "\n",
        "\n",
        "def get_file(fname,\n",
        "             origin,\n",
        "             untar=False,\n",
        "             extract=False,\n",
        "             archive_format='auto',\n",
        "             cache_dir='data'):\n",
        "    datadir = os.path.join(cache_dir)\n",
        "    if not os.path.exists(datadir):\n",
        "        os.makedirs(datadir)\n",
        "\n",
        "    if untar:\n",
        "        untar_fpath = os.path.join(datadir, fname)\n",
        "        fpath = untar_fpath + '.tar.gz'\n",
        "    else:\n",
        "        fpath = os.path.join(datadir, fname)\n",
        "    \n",
        "    print(fpath)\n",
        "    if not os.path.exists(fpath):\n",
        "        print('Downloading data from', origin)\n",
        "\n",
        "        error_msg = 'URL fetch failure on {}: {} -- {}'\n",
        "        try:\n",
        "            try:\n",
        "                urlretrieve(origin, fpath)\n",
        "            except URLError as e:\n",
        "                raise Exception(error_msg.format(origin, e.errno, e.reason))\n",
        "            except HTTPError as e:\n",
        "                raise Exception(error_msg.format(origin, e.code, e.msg))\n",
        "        except (Exception, KeyboardInterrupt) as e:\n",
        "            if os.path.exists(fpath):\n",
        "                os.remove(fpath)\n",
        "            raise\n",
        "\n",
        "    if untar:\n",
        "        if not os.path.exists(untar_fpath):\n",
        "            print('Extracting file.')\n",
        "            with tarfile.open(fpath) as archive:\n",
        "                archive.extractall(datadir)\n",
        "        return untar_fpath\n",
        "\n",
        "    if extract:\n",
        "        _extract_archive(fpath, datadir, archive_format)\n",
        "\n",
        "    return fpath\n",
        "\n",
        "class AttrDict(dict):\n",
        "    def __init__(self, *args, **kwargs):\n",
        "        super(AttrDict, self).__init__(*args, **kwargs)\n",
        "        self.__dict__ = self\n",
        "        \n",
        "def to_var(tensor, cuda):\n",
        "    \"\"\"Wraps a Tensor in a Variable, optionally placing it on the GPU.\n",
        "\n",
        "        Arguments:\n",
        "            tensor: A Tensor object.\n",
        "            cuda: A boolean flag indicating whether to use the GPU.\n",
        "\n",
        "        Returns:\n",
        "            A Variable object, on the GPU if cuda==True.\n",
        "    \"\"\"\n",
        "    if cuda:\n",
        "        return Variable(tensor.cuda())\n",
        "    else:\n",
        "        return Variable(tensor)\n",
        "\n",
        "\n",
        "def create_dir_if_not_exists(directory):\n",
        "    \"\"\"Creates a directory if it doesn't already exist.\n",
        "    \"\"\"\n",
        "    if not os.path.exists(directory):\n",
        "        os.makedirs(directory)\n",
        "\n",
        "\n",
        "def save_loss_plot(train_losses, val_losses, opts):\n",
        "    \"\"\"Saves a plot of the training and validation loss curves.\n",
        "    \"\"\"\n",
        "    plt.figure()\n",
        "    plt.plot(range(len(train_losses)), train_losses)\n",
        "    plt.plot(range(len(val_losses)), val_losses)\n",
        "    plt.title('BS={}, nhid={}'.format(opts.batch_size, opts.hidden_size), fontsize=20)\n",
        "    plt.xlabel('Epochs', fontsize=16)\n",
        "    plt.ylabel('Loss', fontsize=16)\n",
        "    plt.xticks(fontsize=14)\n",
        "    plt.yticks(fontsize=14)\n",
        "    plt.tight_layout()\n",
        "    plt.savefig(os.path.join(opts.checkpoint_path, 'loss_plot.pdf'))\n",
        "    plt.close()\n",
        "\n",
        "\n",
        "def checkpoint(encoder, decoder, idx_dict, opts):\n",
        "    \"\"\"Saves the current encoder and decoder models, along with idx_dict, which\n",
        "    contains the char_to_index and index_to_char mappings, and the start_token\n",
        "    and end_token values.\n",
        "    \"\"\"\n",
        "    with open(os.path.join(opts.checkpoint_path, 'encoder.pt'), 'wb') as f:\n",
        "        torch.save(encoder, f)\n",
        "\n",
        "    with open(os.path.join(opts.checkpoint_path, 'decoder.pt'), 'wb') as f:\n",
        "        torch.save(decoder, f)\n",
        "\n",
        "    with open(os.path.join(opts.checkpoint_path, 'idx_dict.pkl'), 'wb') as f:\n",
        "        pkl.dump(idx_dict, f)\n"
      ],
      "execution_count": 0,
      "outputs": []
    },
    {
      "cell_type": "code",
      "metadata": {
        "id": "MglI7o8xs1Pk",
        "colab_type": "code",
        "colab": {
          "base_uri": "https://localhost:8080/",
          "height": 34
        },
        "outputId": "4cd4dd5e-b7db-43e6-a31d-21d947e300fa"
      },
      "source": [
        "torch.cuda.get_device_name()"
      ],
      "execution_count": 3,
      "outputs": [
        {
          "output_type": "execute_result",
          "data": {
            "text/plain": [
              "'Tesla T4'"
            ]
          },
          "metadata": {
            "tags": []
          },
          "execution_count": 3
        }
      ]
    },
    {
      "cell_type": "markdown",
      "metadata": {
        "id": "pbvpn4MaV0I1",
        "colab_type": "text"
      },
      "source": [
        "## Data loader"
      ]
    },
    {
      "cell_type": "code",
      "metadata": {
        "id": "XVT4TNTOV3Eg",
        "colab_type": "code",
        "colab": {}
      },
      "source": [
        "def read_lines(filename):\n",
        "    \"\"\"Read a file and split it into lines.\n",
        "    \"\"\"\n",
        "    lines = open(filename).read().strip().lower().split('\\n')\n",
        "    return lines\n",
        "\n",
        "\n",
        "def read_pairs(filename):\n",
        "    \"\"\"Reads lines that consist of two words, separated by a space.\n",
        "\n",
        "    Returns:\n",
        "        source_words: A list of the first word in each line of the file.\n",
        "        target_words: A list of the second word in each line of the file.\n",
        "    \"\"\"\n",
        "    lines = read_lines(filename)\n",
        "    source_words, target_words = [], []\n",
        "    for line in lines:\n",
        "        line = line.strip()\n",
        "        if line:\n",
        "            source, target = line.split()\n",
        "            source_words.append(source)\n",
        "            target_words.append(target)\n",
        "    return source_words, target_words\n",
        "\n",
        "\n",
        "def all_alpha_or_dash(s):\n",
        "    \"\"\"Helper function to check whether a string is alphabetic, allowing dashes '-'.\n",
        "    \"\"\"\n",
        "    return all(c.isalpha() or c == '-' for c in s)\n",
        "\n",
        "\n",
        "def filter_lines(lines):\n",
        "    \"\"\"Filters lines to consist of only alphabetic characters or dashes \"-\".\n",
        "    \"\"\"\n",
        "    return [line for line in lines if all_alpha_or_dash(line)]\n",
        "\n",
        "\n",
        "def load_data():\n",
        "    \"\"\"Loads (English, Pig-Latin) word pairs, and creates mappings from characters to indexes.\n",
        "    \"\"\"\n",
        "\n",
        "    source_lines, target_lines = read_pairs('data/pig_latin_data.txt')\n",
        "\n",
        "    # Filter lines\n",
        "    source_lines = filter_lines(source_lines)\n",
        "    target_lines = filter_lines(target_lines)\n",
        "\n",
        "    all_characters = set(''.join(source_lines)) | set(''.join(target_lines))\n",
        "\n",
        "    # Create a dictionary mapping each character to a unique index\n",
        "    char_to_index = { char: index for (index, char) in enumerate(sorted(list(all_characters))) }\n",
        "\n",
        "    # Add start and end tokens to the dictionary\n",
        "    start_token = len(char_to_index)\n",
        "    end_token = len(char_to_index) + 1\n",
        "    char_to_index['SOS'] = start_token\n",
        "    char_to_index['EOS'] = end_token\n",
        "\n",
        "    # Create the inverse mapping, from indexes to characters (used to decode the model's predictions)\n",
        "    index_to_char = { index: char for (char, index) in char_to_index.items() }\n",
        "\n",
        "    # Store the final size of the vocabulary\n",
        "    vocab_size = len(char_to_index)\n",
        "\n",
        "    line_pairs = list(set(zip(source_lines, target_lines)))  # Python 3\n",
        "\n",
        "    idx_dict = { 'char_to_index': char_to_index,\n",
        "                 'index_to_char': index_to_char,\n",
        "                 'start_token': start_token,\n",
        "                 'end_token': end_token }\n",
        "\n",
        "    return line_pairs, vocab_size, idx_dict\n",
        "\n",
        "\n",
        "def create_dict(pairs):\n",
        "    \"\"\"Creates a mapping { (source_length, target_length): [list of (source, target) pairs]\n",
        "    This is used to make batches: each batch consists of two parallel tensors, one containing\n",
        "    all source indexes and the other containing all corresponding target indexes.\n",
        "    Within a batch, all the source words are the same length, and all the target words are\n",
        "    the same length.\n",
        "    \"\"\"\n",
        "    unique_pairs = list(set(pairs))  # Find all unique (source, target) pairs\n",
        "\n",
        "    d = defaultdict(list)\n",
        "    for (s,t) in unique_pairs:\n",
        "        d[(len(s), len(t))].append((s,t))\n",
        "\n",
        "    return d\n"
      ],
      "execution_count": 0,
      "outputs": []
    },
    {
      "cell_type": "markdown",
      "metadata": {
        "id": "bRWfRdmVVjUl",
        "colab_type": "text"
      },
      "source": [
        "## Training and evaluation code"
      ]
    },
    {
      "cell_type": "code",
      "metadata": {
        "id": "wa5-onJhoSeM",
        "colab_type": "code",
        "colab": {}
      },
      "source": [
        "def string_to_index_list(s, char_to_index, end_token):\n",
        "    \"\"\"Converts a sentence into a list of indexes (for each character).\n",
        "    \"\"\"\n",
        "    return [char_to_index[char] for char in s] + [end_token]  # Adds the end token to each index list\n",
        "\n",
        "\n",
        "def translate_sentence(sentence, encoder, decoder, idx_dict, opts):\n",
        "    \"\"\"Translates a sentence from English to Pig-Latin, by splitting the sentence into\n",
        "    words (whitespace-separated), running the encoder-decoder model to translate each\n",
        "    word independently, and then stitching the words back together with spaces between them.\n",
        "    \"\"\"\n",
        "    if idx_dict is None:\n",
        "      line_pairs, vocab_size, idx_dict = load_data()\n",
        "    return ' '.join([translate(word, encoder, decoder, idx_dict, opts) for word in sentence.split()])\n",
        "\n",
        "\n",
        "def translate(input_string, encoder, decoder, idx_dict, opts):\n",
        "    \"\"\"Translates a given string from English to Pig-Latin.\n",
        "    \"\"\"\n",
        "\n",
        "    char_to_index = idx_dict['char_to_index']\n",
        "    index_to_char = idx_dict['index_to_char']\n",
        "    start_token = idx_dict['start_token']\n",
        "    end_token = idx_dict['end_token']\n",
        "\n",
        "    max_generated_chars = 20\n",
        "    gen_string = ''\n",
        "\n",
        "    indexes = string_to_index_list(input_string, char_to_index, end_token)\n",
        "    indexes = to_var(torch.LongTensor(indexes).unsqueeze(0), opts.cuda)  # Unsqueeze to make it like BS = 1\n",
        "\n",
        "    encoder_annotations, encoder_last_hidden = encoder(indexes)\n",
        "\n",
        "    decoder_hidden = encoder_last_hidden\n",
        "    decoder_input = to_var(torch.LongTensor([[start_token]]), opts.cuda)  # For BS = 1\n",
        "    decoder_inputs = decoder_input\n",
        "\n",
        "    for i in range(max_generated_chars):\n",
        "      ## slow decoding, recompute everything at each time\n",
        "      decoder_outputs, attention_weights = decoder(decoder_inputs, encoder_annotations, decoder_hidden)\n",
        "      generated_words = F.softmax(decoder_outputs, dim=2).max(2)[1]\n",
        "      ni = generated_words.cpu().numpy().reshape(-1)  # LongTensor of size 1\n",
        "      ni = ni[-1] #latest output token\n",
        "\n",
        "      decoder_inputs = torch.cat([decoder_input, generated_words], dim=1)\n",
        "      \n",
        "      if ni == end_token:\n",
        "          break\n",
        "      else:\n",
        "          gen_string = \"\".join(\n",
        "              [index_to_char[int(item)] \n",
        "               for item in generated_words.cpu().numpy().reshape(-1)])\n",
        "\n",
        "    return gen_string\n",
        "\n",
        "\n",
        "def visualize_attention(input_string, encoder, decoder, idx_dict, opts):\n",
        "    \"\"\"Generates a heatmap to show where attention is focused in each decoder step.\n",
        "    \"\"\"\n",
        "    if idx_dict is None:\n",
        "      line_pairs, vocab_size, idx_dict = load_data()\n",
        "    char_to_index = idx_dict['char_to_index']\n",
        "    index_to_char = idx_dict['index_to_char']\n",
        "    start_token = idx_dict['start_token']\n",
        "    end_token = idx_dict['end_token']\n",
        "\n",
        "    max_generated_chars = 20\n",
        "    gen_string = ''\n",
        "\n",
        "    indexes = string_to_index_list(input_string, char_to_index, end_token)\n",
        "    indexes = to_var(torch.LongTensor(indexes).unsqueeze(0), opts.cuda)  # Unsqueeze to make it like BS = 1\n",
        "\n",
        "    encoder_annotations, encoder_hidden = encoder(indexes)\n",
        "\n",
        "    decoder_hidden = encoder_hidden\n",
        "    decoder_input = to_var(torch.LongTensor([[start_token]]), opts.cuda)  # For BS = 1\n",
        "    decoder_inputs = decoder_input\n",
        "\n",
        "    produced_end_token = False\n",
        "\n",
        "    for i in range(max_generated_chars):\n",
        "      ## slow decoding, recompute everything at each time\n",
        "      decoder_outputs, attention_weights = decoder(decoder_inputs, encoder_annotations, decoder_hidden)\n",
        "      generated_words = F.softmax(decoder_outputs, dim=2).max(2)[1]\n",
        "      ni = generated_words.cpu().numpy().reshape(-1)  # LongTensor of size 1\n",
        "      ni = ni[-1] #latest output token\n",
        "      \n",
        "      decoder_inputs = torch.cat([decoder_input, generated_words], dim=1)\n",
        "      \n",
        "      if ni == end_token:\n",
        "          break\n",
        "      else:\n",
        "          gen_string = \"\".join(\n",
        "              [index_to_char[int(item)] \n",
        "               for item in generated_words.cpu().numpy().reshape(-1)])\n",
        "    \n",
        "    if isinstance(attention_weights, tuple):\n",
        "      ## transformer's attention mweights\n",
        "      attention_weights, self_attention_weights = attention_weights\n",
        "    \n",
        "    all_attention_weights = attention_weights.data.cpu().numpy()\n",
        "    \n",
        "    for i in range(len(all_attention_weights)):\n",
        "      attention_weights_matrix = all_attention_weights[i].squeeze()\n",
        "      fig = plt.figure()\n",
        "      ax = fig.add_subplot(111)\n",
        "      cax = ax.matshow(attention_weights_matrix, cmap='bone')\n",
        "      fig.colorbar(cax)\n",
        "\n",
        "      # Set up axes\n",
        "      ax.set_yticklabels([''] + list(input_string) + ['EOS'], rotation=90)\n",
        "      ax.set_xticklabels([''] + list(gen_string) + (['EOS'] if produced_end_token else []))\n",
        "\n",
        "      # Show label at every tick\n",
        "      ax.xaxis.set_major_locator(ticker.MultipleLocator(1))\n",
        "      ax.yaxis.set_major_locator(ticker.MultipleLocator(1))\n",
        "      # Add title\n",
        "      plt.xlabel('Attention weights to the source sentence in layer {}'.format(i+1))\n",
        "      plt.tight_layout()\n",
        "      plt.grid('off')\n",
        "      plt.show()\n",
        "      #plt.savefig(save)\n",
        "\n",
        "      #plt.close(fig)\n",
        "\n",
        "    return gen_string\n",
        "\n",
        "\n",
        "def compute_loss(data_dict, encoder, decoder, idx_dict, criterion, optimizer, opts):\n",
        "    \"\"\"Train/Evaluate the model on a dataset.\n",
        "\n",
        "    Arguments:\n",
        "        data_dict: The validation/test word pairs, organized by source and target lengths.\n",
        "        encoder: An encoder model to produce annotations for each step of the input sequence.\n",
        "        decoder: A decoder model (with or without attention) to generate output tokens.\n",
        "        idx_dict: Contains char-to-index and index-to-char mappings, and start & end token indexes.\n",
        "        criterion: Used to compute the CrossEntropyLoss for each decoder output.\n",
        "        optimizer: Train the weights if an optimizer is given. None if only evaluate the model. \n",
        "        opts: The command-line arguments.\n",
        "\n",
        "    Returns:\n",
        "        mean_loss: The average loss over all batches from data_dict.\n",
        "    \"\"\"\n",
        "    start_token = idx_dict['start_token']\n",
        "    end_token = idx_dict['end_token']\n",
        "    char_to_index = idx_dict['char_to_index']\n",
        "\n",
        "    losses = []\n",
        "    for key in data_dict:\n",
        "        input_strings, target_strings = zip(*data_dict[key])\n",
        "        input_tensors = [torch.LongTensor(string_to_index_list(s, char_to_index, end_token)) for s in input_strings]\n",
        "        target_tensors = [torch.LongTensor(string_to_index_list(s, char_to_index, end_token)) for s in target_strings]\n",
        "\n",
        "        num_tensors = len(input_tensors)\n",
        "        num_batches = int(np.ceil(num_tensors / float(opts.batch_size)))\n",
        "\n",
        "        for i in range(num_batches):\n",
        "\n",
        "            start = i * opts.batch_size\n",
        "            end = start + opts.batch_size\n",
        "\n",
        "            inputs = to_var(torch.stack(input_tensors[start:end]), opts.cuda)\n",
        "            targets = to_var(torch.stack(target_tensors[start:end]), opts.cuda)\n",
        "\n",
        "            # The batch size may be different in each epoch\n",
        "            BS = inputs.size(0)\n",
        "\n",
        "            encoder_annotations, encoder_hidden = encoder(inputs)\n",
        "\n",
        "            # The last hidden state of the encoder becomes the first hidden state of the decoder\n",
        "            decoder_hidden = encoder_hidden\n",
        "\n",
        "            start_vector = torch.ones(BS).long().unsqueeze(1) * start_token  # BS x 1 --> 16x1  CHECKED\n",
        "            decoder_input = to_var(start_vector, opts.cuda)  # BS x 1 --> 16x1  CHECKED\n",
        "\n",
        "            loss = 0.0\n",
        "\n",
        "            seq_len = targets.size(1)  # Gets seq_len from BS x seq_len\n",
        "\n",
        "            decoder_inputs = torch.cat([decoder_input, targets[:, 0:-1]], dim=1)  # Gets decoder inputs by shifting the targets to the right \n",
        "            \n",
        "            decoder_outputs, attention_weights = decoder(decoder_inputs, encoder_annotations, encoder_hidden)\n",
        "            decoder_outputs_flatten = decoder_outputs.view(-1, decoder_outputs.size(2))\n",
        "            targets_flatten = targets.view(-1)\n",
        "            loss = criterion(decoder_outputs_flatten, targets_flatten)\n",
        "\n",
        "            losses.append(loss.item())\n",
        "\n",
        "            ## training if an optimizer is provided\n",
        "            if optimizer:\n",
        "              # Zero gradients\n",
        "              optimizer.zero_grad()\n",
        "              # Compute gradients\n",
        "              loss.backward()\n",
        "              # Update the parameters of the encoder and decoder\n",
        "              optimizer.step()\n",
        "              \n",
        "    mean_loss = np.mean(losses)\n",
        "    return mean_loss\n",
        "\n",
        "  \n",
        "\n",
        "def training_loop(train_dict, val_dict, idx_dict, encoder, decoder, criterion, optimizer, opts):\n",
        "    \"\"\"Runs the main training loop; evaluates the model on the val set every epoch.\n",
        "        * Prints training and val loss each epoch.\n",
        "        * Prints qualitative translation results each epoch using TEST_SENTENCE\n",
        "        * Saves an attention map for TEST_WORD_ATTN each epoch\n",
        "\n",
        "    Arguments:\n",
        "        train_dict: The training word pairs, organized by source and target lengths.\n",
        "        val_dict: The validation word pairs, organized by source and target lengths.\n",
        "        idx_dict: Contains char-to-index and index-to-char mappings, and start & end token indexes.\n",
        "        encoder: An encoder model to produce annotations for each step of the input sequence.\n",
        "        decoder: A decoder model (with or without attention) to generate output tokens.\n",
        "        criterion: Used to compute the CrossEntropyLoss for each decoder output.\n",
        "        optimizer: Implements a step rule to update the parameters of the encoder and decoder.\n",
        "        opts: The command-line arguments.\n",
        "    \"\"\"\n",
        "\n",
        "    start_token = idx_dict['start_token']\n",
        "    end_token = idx_dict['end_token']\n",
        "    char_to_index = idx_dict['char_to_index']\n",
        "\n",
        "    loss_log = open(os.path.join(opts.checkpoint_path, 'loss_log.txt'), 'w')\n",
        "\n",
        "    best_val_loss = 1e6\n",
        "    train_losses = []\n",
        "    val_losses = []\n",
        "\n",
        "    for epoch in range(opts.nepochs):\n",
        "\n",
        "        optimizer.param_groups[0]['lr'] *= opts.lr_decay\n",
        "        \n",
        "        train_loss = compute_loss(train_dict, encoder, decoder, idx_dict, criterion, optimizer, opts)\n",
        "        val_loss = compute_loss(val_dict, encoder, decoder, idx_dict, criterion, None, opts)\n",
        "\n",
        "        if val_loss < best_val_loss:\n",
        "            checkpoint(encoder, decoder, idx_dict, opts)\n",
        "\n",
        "        gen_string = translate_sentence(TEST_SENTENCE, encoder, decoder, idx_dict, opts)\n",
        "        print(\"Epoch: {:3d} | Train loss: {:.3f} | Val loss: {:.3f} | Gen: {:20s}\".format(epoch, train_loss, val_loss, gen_string))\n",
        "\n",
        "        loss_log.write('{} {} {}\\n'.format(epoch, train_loss, val_loss))\n",
        "        loss_log.flush()\n",
        "\n",
        "        train_losses.append(train_loss)\n",
        "        val_losses.append(val_loss)\n",
        "\n",
        "        save_loss_plot(train_losses, val_losses, opts)\n",
        "\n",
        "\n",
        "def print_data_stats(line_pairs, vocab_size, idx_dict):\n",
        "    \"\"\"Prints example word pairs, the number of data points, and the vocabulary.\n",
        "    \"\"\"\n",
        "    print('=' * 80)\n",
        "    print('Data Stats'.center(80))\n",
        "    print('-' * 80)\n",
        "    for pair in line_pairs[:5]:\n",
        "        print(pair)\n",
        "    print('Num unique word pairs: {}'.format(len(line_pairs)))\n",
        "    print('Vocabulary: {}'.format(idx_dict['char_to_index'].keys()))\n",
        "    print('Vocab size: {}'.format(vocab_size))\n",
        "    print('=' * 80)\n",
        "\n",
        "\n",
        "def train(opts):\n",
        "    line_pairs, vocab_size, idx_dict = load_data()\n",
        "    print_data_stats(line_pairs, vocab_size, idx_dict)\n",
        "\n",
        "    # Split the line pairs into an 80% train and 20% val split\n",
        "    num_lines = len(line_pairs)\n",
        "    num_train = int(0.8 * num_lines)\n",
        "    train_pairs, val_pairs = line_pairs[:num_train], line_pairs[num_train:]\n",
        "\n",
        "    # Group the data by the lengths of the source and target words, to form batches\n",
        "    train_dict = create_dict(train_pairs)\n",
        "    val_dict = create_dict(val_pairs)\n",
        "\n",
        "    ##########################################################################\n",
        "    ### Setup: Create Encoder, Decoder, Learning Criterion, and Optimizers ###\n",
        "    ##########################################################################\n",
        "    if opts.encoder_type == \"rnn\":\n",
        "      encoder = GRUEncoder(vocab_size=vocab_size, \n",
        "                          hidden_size=opts.hidden_size, \n",
        "                          opts=opts)\n",
        "    elif opts.encoder_type == \"transformer\":\n",
        "      encoder = TransformerEncoder(vocab_size=vocab_size, \n",
        "                                   hidden_size=opts.hidden_size, \n",
        "                                   num_layers=opts.num_transformer_layers,\n",
        "                                   opts=opts)\n",
        "    else:\n",
        "        raise NotImplementedError\n",
        "\n",
        "    if opts.decoder_type == 'rnn':\n",
        "        decoder = RNNDecoder(vocab_size=vocab_size, \n",
        "                             hidden_size=opts.hidden_size)\n",
        "    elif opts.decoder_type == 'rnn_attention':\n",
        "        decoder = RNNAttentionDecoder(vocab_size=vocab_size, \n",
        "                                      hidden_size=opts.hidden_size, \n",
        "                                      attention_type=opts.attention_type)\n",
        "    elif opts.decoder_type == 'transformer':\n",
        "        decoder = TransformerDecoder(vocab_size=vocab_size, \n",
        "                                     hidden_size=opts.hidden_size, \n",
        "                                     num_layers=opts.num_transformer_layers)\n",
        "    else:\n",
        "        raise NotImplementedError\n",
        "        \n",
        "    #### setup checkpoint path\n",
        "    model_name = 'h{}-bs{}-{}'.format(opts.hidden_size, \n",
        "                                      opts.batch_size, \n",
        "                                      opts.decoder_type)\n",
        "    opts.checkpoint_path = model_name\n",
        "    create_dir_if_not_exists(opts.checkpoint_path)\n",
        "    ####\n",
        "\n",
        "    if opts.cuda:\n",
        "        encoder.cuda()\n",
        "        decoder.cuda()\n",
        "        print(\"Moved models to GPU!\")\n",
        "\n",
        "    criterion = nn.CrossEntropyLoss()\n",
        "    optimizer = optim.Adam(list(encoder.parameters()) + list(decoder.parameters()), lr=opts.learning_rate)\n",
        "\n",
        "    try:\n",
        "        training_loop(train_dict, val_dict, idx_dict, encoder, decoder, criterion, optimizer, opts)\n",
        "    except KeyboardInterrupt:\n",
        "        print('Exiting early from training.')\n",
        "        return encoder, decoder\n",
        "      \n",
        "    return encoder, decoder\n",
        "\n",
        "\n",
        "def print_opts(opts):\n",
        "    \"\"\"Prints the values of all command-line arguments.\n",
        "    \"\"\"\n",
        "    print('=' * 80)\n",
        "    print('Opts'.center(80))\n",
        "    print('-' * 80)\n",
        "    for key in opts.__dict__:\n",
        "        print('{:>30}: {:<30}'.format(key, opts.__dict__[key]).center(80))\n",
        "    print('=' * 80)\n"
      ],
      "execution_count": 0,
      "outputs": []
    },
    {
      "cell_type": "markdown",
      "metadata": {
        "id": "0yh08KhgnA30",
        "colab_type": "text"
      },
      "source": [
        "## Download dataset"
      ]
    },
    {
      "cell_type": "code",
      "metadata": {
        "id": "aROU2xZanDKq",
        "colab_type": "code",
        "colab": {
          "base_uri": "https://localhost:8080/",
          "height": 34
        },
        "outputId": "d2d631ba-888f-4aa4-8360-1768d8066c50"
      },
      "source": [
        "######################################################################\n",
        "# Download Translation datasets\n",
        "######################################################################\n",
        "data_fpath = get_file(fname='pig_latin_data.txt', \n",
        "                         origin='http://www.cs.toronto.edu/~jba/pig_latin_data.txt', \n",
        "                         untar=False)"
      ],
      "execution_count": 6,
      "outputs": [
        {
          "output_type": "stream",
          "text": [
            "data/pig_latin_data.txt\n"
          ],
          "name": "stdout"
        }
      ]
    },
    {
      "cell_type": "markdown",
      "metadata": {
        "id": "YDYMr7NclZdw",
        "colab_type": "text"
      },
      "source": [
        "# Part 1: Gated Recurrent Unit (GRU)"
      ]
    },
    {
      "cell_type": "markdown",
      "metadata": {
        "id": "dCae1mOUlZrC",
        "colab_type": "text"
      },
      "source": [
        "## Step 1: GRU Cell\n",
        "Please implement the Gated Recurent Unit class defined in the next cell. "
      ]
    },
    {
      "cell_type": "code",
      "metadata": {
        "id": "3HMO7FD6l5RU",
        "colab_type": "code",
        "colab": {}
      },
      "source": [
        "class MyGRUCell(nn.Module):\n",
        "    def __init__(self, input_size, hidden_size):\n",
        "        super(MyGRUCell, self).__init__()\n",
        "\n",
        "        self.input_size = input_size\n",
        "        self.hidden_size = hidden_size\n",
        "\n",
        "        # ------------\n",
        "        # FILL THIS IN\n",
        "        # ------------\n",
        "        ## Input linear layers\n",
        "        self.Wiz = nn.Linear(input_size, hidden_size, bias=False)\n",
        "        self.Wir = nn.Linear(input_size, hidden_size, bias=False)\n",
        "        self.Win = nn.Linear(input_size, hidden_size, bias=False)\n",
        "\n",
        "        ## Hidden linear layers\n",
        "        self.Whz = nn.Linear(hidden_size, hidden_size, bias=True)\n",
        "        self.Whr = nn.Linear(hidden_size, hidden_size, bias=True)\n",
        "        self.Whn = nn.Linear(hidden_size, hidden_size, bias=True)\n",
        "        \n",
        "\n",
        "    def forward(self, x, h_prev):\n",
        "        \"\"\"Forward pass of the GRU computation for one time step.\n",
        "\n",
        "        Arguments\n",
        "            x: batch_size x input_size\n",
        "            h_prev: batch_size x hidden_size\n",
        "\n",
        "        Returns:\n",
        "            h_new: batch_size x hidden_size\n",
        "        \"\"\"\n",
        "\n",
        "        # ------------\n",
        "        # FILL THIS IN\n",
        "        # ------------\n",
        "        r = torch.sigmoid(self.Wir(x) + self.Whr(h_prev))\n",
        "        z = torch.sigmoid(self.Wiz(x) + self.Whz(h_prev))\n",
        "        g = torch.tanh(self.Win(x) + r * self.Whn(h_prev))\n",
        "        h_new = (1 - z) * g + z * h_prev\n",
        "        return h_new\n",
        "\n",
        "        "
      ],
      "execution_count": 0,
      "outputs": []
    },
    {
      "cell_type": "markdown",
      "metadata": {
        "id": "ecEq4TP2lZ4Z",
        "colab_type": "text"
      },
      "source": [
        "## Step 2: GRU Encoder\n",
        "Please inspect the following recurrent encoder/decoder implementations. Make sure to run the cells before proceeding. "
      ]
    },
    {
      "cell_type": "code",
      "metadata": {
        "id": "8jDNim2fmVJV",
        "colab_type": "code",
        "colab": {}
      },
      "source": [
        "class GRUEncoder(nn.Module):\n",
        "    def __init__(self, vocab_size, hidden_size, opts):\n",
        "        super(GRUEncoder, self).__init__()\n",
        "\n",
        "        self.vocab_size = vocab_size\n",
        "        self.hidden_size = hidden_size\n",
        "        self.opts = opts\n",
        "\n",
        "        self.embedding = nn.Embedding(vocab_size, hidden_size)\n",
        "        self.gru = MyGRUCell(hidden_size, hidden_size)\n",
        "\n",
        "    def forward(self, inputs):\n",
        "        \"\"\"Forward pass of the encoder RNN.\n",
        "\n",
        "        Arguments:\n",
        "            inputs: Input token indexes across a batch for all time steps in the sequence. (batch_size x seq_len)\n",
        "\n",
        "        Returns:\n",
        "            annotations: The hidden states computed at each step of the input sequence. (batch_size x seq_len x hidden_size)\n",
        "            hidden: The final hidden state of the encoder, for each sequence in a batch. (batch_size x hidden_size)\n",
        "        \"\"\"\n",
        "\n",
        "        batch_size, seq_len = inputs.size()\n",
        "        hidden = self.init_hidden(batch_size)\n",
        "\n",
        "        encoded = self.embedding(inputs)  # batch_size x seq_len x hidden_size\n",
        "        annotations = []\n",
        "\n",
        "        for i in range(seq_len):\n",
        "            x = encoded[:,i,:]  # Get the current time step, across the whole batch\n",
        "            hidden = self.gru(x, hidden)\n",
        "            annotations.append(hidden)\n",
        "\n",
        "        annotations = torch.stack(annotations, dim=1)\n",
        "        return annotations, hidden\n",
        "\n",
        "    def init_hidden(self, bs):\n",
        "        \"\"\"Creates a tensor of zeros to represent the initial hidden states\n",
        "        of a batch of sequences.\n",
        "\n",
        "        Arguments:\n",
        "            bs: The batch size for the initial hidden state.\n",
        "\n",
        "        Returns:\n",
        "            hidden: An initial hidden state of all zeros. (batch_size x hidden_size)\n",
        "        \"\"\"\n",
        "        return to_var(torch.zeros(bs, self.hidden_size), self.opts.cuda)"
      ],
      "execution_count": 0,
      "outputs": []
    },
    {
      "cell_type": "code",
      "metadata": {
        "id": "HvwizYM9ma4p",
        "colab_type": "code",
        "colab": {}
      },
      "source": [
        "class RNNDecoder(nn.Module):\n",
        "    def __init__(self, vocab_size, hidden_size):\n",
        "        super(RNNDecoder, self).__init__()\n",
        "        self.vocab_size = vocab_size\n",
        "        self.hidden_size = hidden_size\n",
        "\n",
        "        self.embedding = nn.Embedding(vocab_size, hidden_size)\n",
        "        self.rnn = MyGRUCell(input_size=hidden_size, hidden_size=hidden_size)\n",
        "        self.out = nn.Linear(hidden_size, vocab_size)\n",
        "\n",
        "    def forward(self, inputs, annotations, hidden_init):\n",
        "        \"\"\"Forward pass of the non-attentional decoder RNN.\n",
        "\n",
        "        Arguments:\n",
        "            inputs: Input token indexes across a batch. (batch_size x seq_len)\n",
        "            annotations: This is not used here. It just maintains consistency with the\n",
        "                    interface used by the AttentionDecoder class.\n",
        "            hidden_init: The hidden states from the last step of encoder, across a batch. (batch_size x hidden_size)\n",
        "\n",
        "        Returns:\n",
        "            output: Un-normalized scores for each token in the vocabulary, across a batch for all the decoding time steps. (batch_size x decoder_seq_len x vocab_size)\n",
        "            None        \n",
        "        \"\"\"        \n",
        "        batch_size, seq_len = inputs.size()\n",
        "        embed = self.embedding(inputs)  # batch_size x seq_len x hidden_size        \n",
        "\n",
        "        hiddens = []\n",
        "        h_prev = hidden_init\n",
        "        for i in range(seq_len):\n",
        "            x = embed[:,i,:]  # Get the current time step input tokens, across the whole batch\n",
        "            h_prev = self.rnn(x, h_prev)  # batch_size x hidden_size\n",
        "            hiddens.append(h_prev)\n",
        "\n",
        "        hiddens = torch.stack(hiddens, dim=1) # batch_size x seq_len x hidden_size\n",
        "        \n",
        "        output = self.out(hiddens)  # batch_size x seq_len x vocab_size\n",
        "        return output, None  "
      ],
      "execution_count": 0,
      "outputs": []
    },
    {
      "cell_type": "markdown",
      "metadata": {
        "id": "TSDTbsydlaGI",
        "colab_type": "text"
      },
      "source": [
        "## Step 3: Training and Analysis\n",
        "Train the following language model comprised of recurrent encoder and decoders. "
      ]
    },
    {
      "cell_type": "code",
      "metadata": {
        "id": "51HladZJtG7n",
        "colab_type": "code",
        "colab": {}
      },
      "source": [
        "# Ignore warnings\n",
        "import warnings\n",
        "warnings.simplefilter(\"ignore\", UserWarning)"
      ],
      "execution_count": 0,
      "outputs": []
    },
    {
      "cell_type": "code",
      "metadata": {
        "id": "H3YLrAjsmx_W",
        "colab_type": "code",
        "colab": {
          "base_uri": "https://localhost:8080/",
          "height": 1000
        },
        "outputId": "927ec8a6-a7f8-473b-f6bf-90b279d57ad3"
      },
      "source": [
        "TEST_SENTENCE = 'the air conditioning is working'\n",
        "\n",
        "args = AttrDict()\n",
        "args_dict = {\n",
        "              'cuda':True, \n",
        "              'nepochs':100, \n",
        "              'checkpoint_dir':\"checkpoints\", \n",
        "              'learning_rate':0.005, \n",
        "              'lr_decay':0.99,\n",
        "              'batch_size':64, \n",
        "              'hidden_size':20, \n",
        "              'encoder_type': 'rnn', # options: rnn / transformer\n",
        "              'decoder_type': 'rnn', # options: rnn / rnn_attention / transformer\n",
        "              'attention_type': '',  # options: additive / scaled_dot\n",
        "}\n",
        "args.update(args_dict)\n",
        "\n",
        "print_opts(args)\n",
        "rnn_encoder, rnn_decoder = train(args)\n",
        "\n",
        "translated = translate_sentence(TEST_SENTENCE, rnn_encoder, rnn_decoder, None, args)\n",
        "print(\"source:\\t\\t{} \\ntranslated:\\t{}\".format(TEST_SENTENCE, translated))"
      ],
      "execution_count": 11,
      "outputs": [
        {
          "output_type": "stream",
          "text": [
            "================================================================================\n",
            "                                      Opts                                      \n",
            "--------------------------------------------------------------------------------\n",
            "                                   cuda: 1                                      \n",
            "                                nepochs: 100                                    \n",
            "                         checkpoint_dir: checkpoints                            \n",
            "                          learning_rate: 0.005                                  \n",
            "                               lr_decay: 0.99                                   \n",
            "                             batch_size: 64                                     \n",
            "                            hidden_size: 20                                     \n",
            "                           encoder_type: rnn                                    \n",
            "                           decoder_type: rnn                                    \n",
            "                         attention_type:                                        \n",
            "================================================================================\n",
            "================================================================================\n",
            "                                   Data Stats                                   \n",
            "--------------------------------------------------------------------------------\n",
            "('contrived', 'ontrivedcay')\n",
            "('gilberts', 'ilbertsgay')\n",
            "('agitated', 'agitatedway')\n",
            "('strictest', 'icteststray')\n",
            "('gaining', 'aininggay')\n",
            "Num unique word pairs: 6387\n",
            "Vocabulary: dict_keys(['-', 'a', 'b', 'c', 'd', 'e', 'f', 'g', 'h', 'i', 'j', 'k', 'l', 'm', 'n', 'o', 'p', 'q', 'r', 's', 't', 'u', 'v', 'w', 'x', 'y', 'z', 'SOS', 'EOS'])\n",
            "Vocab size: 29\n",
            "================================================================================\n",
            "Moved models to GPU!\n",
            "Epoch:   0 | Train loss: 2.297 | Val loss: 2.084 | Gen: ontay-ay ansay-ay interay-ay intay-ay intay-ay\n",
            "Epoch:   1 | Train loss: 1.847 | Val loss: 1.898 | Gen: ayday ayday onteredsay insay-ayday onteredsay\n",
            "Epoch:   2 | Train loss: 1.708 | Val loss: 1.829 | Gen: ellay-ayday-ayday-ay ayday-ayday-ayday-ay onteredsay-ayday-ayd insay-ayday-ayday-ay onteredsay-ayday-ayd\n",
            "Epoch:   3 | Train loss: 1.613 | Val loss: 1.761 | Gen: ellway away ontionseray-away-awa insay-away-away-away onseredsay-away-away\n",
            "Epoch:   4 | Train loss: 1.539 | Val loss: 1.685 | Gen: ellway ayday ontionsestay insay orseredway\n",
            "Epoch:   5 | Train loss: 1.467 | Val loss: 1.619 | Gen: eredsay ayday ontionsentay insay orkersay\n",
            "Epoch:   6 | Train loss: 1.411 | Val loss: 1.568 | Gen: elway-inway-inway-in ay-inway ontionsestay-ondingw insay orkedhay\n",
            "Epoch:   7 | Train loss: 1.361 | Val loss: 1.538 | Gen: eway-awlay ay-inway onincionsay-ingentay insay orkferway\n",
            "Epoch:   8 | Train loss: 1.319 | Val loss: 1.498 | Gen: eationday ay-inway oninsinglessway insway orfinghay\n",
            "Epoch:   9 | Train loss: 1.278 | Val loss: 1.504 | Gen: estay ayday oningionday insway orfshay-awlay\n",
            "Epoch:  10 | Train loss: 1.262 | Val loss: 1.540 | Gen: eway ay-incay ontiondedway insay orfhedway\n",
            "Epoch:  11 | Train loss: 1.244 | Val loss: 1.490 | Gen: eway-ayday ayghay ontiondedway inssway orkfshay\n",
            "Epoch:  12 | Train loss: 1.216 | Val loss: 1.524 | Gen: eway aingway ontiondway insway orkfay-ondway\n",
            "Epoch:  13 | Train loss: 1.198 | Val loss: 1.473 | Gen: eationday aingway ontionday inssway orkfsay\n",
            "Epoch:  14 | Train loss: 1.168 | Val loss: 1.440 | Gen: eway-ayday ayghay ontiondsay-ondedway inssway orksondway\n",
            "Epoch:  15 | Train loss: 1.159 | Val loss: 1.500 | Gen: erhay aygay ondinglyway ingway orkingway\n",
            "Epoch:  16 | Train loss: 1.150 | Val loss: 1.443 | Gen: eway-ayday aifstway ondingingsay inssway orkingway\n",
            "Epoch:  17 | Train loss: 1.135 | Val loss: 1.435 | Gen: estray ay-iwedway ondingroustray-ayday ingway orkingway\n",
            "Epoch:  18 | Train loss: 1.118 | Val loss: 1.427 | Gen: erhay aifyway onintionday-ayday inssway orkingday\n",
            "Epoch:  19 | Train loss: 1.098 | Val loss: 1.436 | Gen: erhay aifsay onsingingway inssway orkingway\n",
            "Epoch:  20 | Train loss: 1.084 | Val loss: 1.439 | Gen: eshay aingway onsingingsay inssway orkingway\n",
            "Epoch:  21 | Train loss: 1.074 | Val loss: 1.397 | Gen: eshay aingway onsingingsay ingway orfondway-ayday\n",
            "Epoch:  22 | Train loss: 1.062 | Val loss: 1.432 | Gen: eshay aingway onsingingsay inssway orkingway\n",
            "Epoch:  23 | Train loss: 1.046 | Val loss: 1.432 | Gen: eshay aifsay ondingingday ingway orkingway\n",
            "Epoch:  24 | Train loss: 1.049 | Val loss: 1.546 | Gen: eshay aingway onintionsay-ayday inssway-ayday orkingsay-oowlay\n",
            "Epoch:  25 | Train loss: 1.053 | Val loss: 1.425 | Gen: eshay aingway ondingray-imedtay issway orfingsay\n",
            "Epoch:  26 | Train loss: 1.031 | Val loss: 1.454 | Gen: eshay aingway ondingingsay issway orkingsay\n",
            "Epoch:  27 | Train loss: 1.011 | Val loss: 1.433 | Gen: eshay aingway ondingingsay insway orkingway\n",
            "Epoch:  28 | Train loss: 1.000 | Val loss: 1.426 | Gen: eshay aingway ondingsray-imeday issway orfingsay\n",
            "Epoch:  29 | Train loss: 0.991 | Val loss: 1.455 | Gen: eshay aingway ondingingsay issway orkingsay\n",
            "Epoch:  30 | Train loss: 0.985 | Val loss: 1.441 | Gen: eshay aingway ondingingway issway orkingway\n",
            "Epoch:  31 | Train loss: 1.000 | Val loss: 1.492 | Gen: eshhay aingway-ayday ontionssay-ondedway- issway-ayday orfingsay-ayday\n",
            "Epoch:  32 | Train loss: 0.995 | Val loss: 1.426 | Gen: eshay aingway onditionssay-ayday issway orfonduray\n",
            "Epoch:  33 | Train loss: 0.975 | Val loss: 1.429 | Gen: eshhay aingway ondingingsray issway orkingway\n",
            "Epoch:  34 | Train loss: 0.966 | Val loss: 1.410 | Gen: ethay aingway ondingstray-awlay issway orfondway-andway-awl\n",
            "Epoch:  35 | Train loss: 0.963 | Val loss: 1.459 | Gen: eshhay aingway ondintionssay-ondway issway orkingsay\n",
            "Epoch:  36 | Train loss: 0.959 | Val loss: 1.442 | Gen: ethay aingway ondingray-impasenati issway orfinglay\n",
            "Epoch:  37 | Train loss: 0.959 | Val loss: 1.432 | Gen: eshedway aingway onintionssay-owhay-a issway orkingsay\n",
            "Epoch:  38 | Train loss: 0.931 | Val loss: 1.381 | Gen: ehay-awlay aingway ondingingsray issway orkingsay\n",
            "Epoch:  39 | Train loss: 0.917 | Val loss: 1.332 | Gen: ethay aingway onintionday-atforway issway orkingway\n",
            "Epoch:  40 | Train loss: 0.908 | Val loss: 1.343 | Gen: ethay aingway onintionshay issway orkingsay\n",
            "Epoch:  41 | Train loss: 0.904 | Val loss: 1.322 | Gen: ethay aingway onintionssay-ovedway issway orkingway\n",
            "Epoch:  42 | Train loss: 0.902 | Val loss: 1.387 | Gen: ethay ayghay onintionshay issway orkingsay\n",
            "Epoch:  43 | Train loss: 0.913 | Val loss: 1.363 | Gen: ethay aiftway-awlay onintionssay-ovedray issway orkingsway\n",
            "Epoch:  44 | Train loss: 0.907 | Val loss: 1.460 | Gen: ehhay-awlay ayghay onditionsshentay issway orkingsay-ofway\n",
            "Epoch:  45 | Train loss: 0.895 | Val loss: 1.332 | Gen: ethay aygray onintionsshay issway orkingway\n",
            "Epoch:  46 | Train loss: 0.881 | Val loss: 1.396 | Gen: ethay ayghay ondingingsray issway orkingway\n",
            "Epoch:  47 | Train loss: 0.882 | Val loss: 1.316 | Gen: ethay aingway onintionsshay-awlay issway orkingway\n",
            "Epoch:  48 | Train loss: 0.878 | Val loss: 1.450 | Gen: ehay-astway-awlay ayghay ondingingsray issway orfinglyway\n",
            "Epoch:  49 | Train loss: 0.881 | Val loss: 1.322 | Gen: ehay aygray onintionshedsay issway orkingway\n",
            "Epoch:  50 | Train loss: 0.864 | Val loss: 1.343 | Gen: ehay-ayday aygray ondingingsray issway orkfondway-ofway\n",
            "Epoch:  51 | Train loss: 0.856 | Val loss: 1.305 | Gen: ehay-awlay aygray onintionshedway issway orkfondway-away-awla\n",
            "Epoch:  52 | Train loss: 0.850 | Val loss: 1.369 | Gen: ethay ayghay ondingingedray issway orkfondway-ofway\n",
            "Epoch:  53 | Train loss: 0.848 | Val loss: 1.290 | Gen: ethay aingway onintionsshentway issway orkingway\n",
            "Epoch:  54 | Train loss: 0.847 | Val loss: 1.372 | Gen: ehay-awlay ayghay onditionsshay-awlay issway orkfunsgray\n",
            "Epoch:  55 | Train loss: 0.851 | Val loss: 1.303 | Gen: ethay aygray ondingingsray issway orkingway\n",
            "Epoch:  56 | Train loss: 0.850 | Val loss: 1.547 | Gen: ehay-awlay aygray onsitionentway-ayday issway orkingshay\n",
            "Epoch:  57 | Train loss: 0.858 | Val loss: 1.330 | Gen: ebhay ayghay onintionshay issway orkfonway-inway-ybay\n",
            "Epoch:  58 | Train loss: 0.836 | Val loss: 1.305 | Gen: ehay-awlay ayghay ondingingsray issway orkfondway-ofway\n",
            "Epoch:  59 | Train loss: 0.824 | Val loss: 1.297 | Gen: ehay ayghay onditionshedway issway orkfonday\n",
            "Epoch:  60 | Train loss: 0.814 | Val loss: 1.267 | Gen: ehay ayghay onditionshedway issway orkfonday\n",
            "Epoch:  61 | Train loss: 0.809 | Val loss: 1.334 | Gen: ethay ayghay ondingingsray issway orkingshay\n",
            "Epoch:  62 | Train loss: 0.821 | Val loss: 1.314 | Gen: ehay aygray onintionsshay issway orkingway\n",
            "Epoch:  63 | Train loss: 0.811 | Val loss: 1.289 | Gen: ethay ayghay ondingingsray issway orkfondway-inway-awl\n",
            "Epoch:  64 | Train loss: 0.807 | Val loss: 1.372 | Gen: ethay ayghay ondingingsray issway orkinghay\n",
            "Epoch:  65 | Train loss: 0.821 | Val loss: 1.370 | Gen: ehay ayghay onditionsedway issway-ybay orkfondway-ineway-aw\n",
            "Epoch:  66 | Train loss: 0.815 | Val loss: 1.295 | Gen: ethay ayghay onintionstay issway orkingsay\n",
            "Epoch:  67 | Train loss: 0.804 | Val loss: 1.307 | Gen: ethay aygray ondingsingsray issway orkfondway\n",
            "Epoch:  68 | Train loss: 0.799 | Val loss: 1.346 | Gen: ethay aybybay ondingsresshentway issway orkfonungway\n",
            "Epoch:  69 | Train loss: 0.828 | Val loss: 1.472 | Gen: ethay ayghay oningtentway issway orfrghfay\n",
            "Epoch:  70 | Train loss: 0.889 | Val loss: 1.353 | Gen: eheray ayghay ondingsorteway issway orkingway\n",
            "Epoch:  71 | Train loss: 0.821 | Val loss: 1.300 | Gen: ethay ayghay onditionsshay issway orkingway\n",
            "Epoch:  72 | Train loss: 0.786 | Val loss: 1.241 | Gen: ethay aybyray onditionshedway issway orkfondway\n",
            "Epoch:  73 | Train loss: 0.772 | Val loss: 1.237 | Gen: ethay ayghay onditionshedway issway orkfonfay\n",
            "Epoch:  74 | Train loss: 0.765 | Val loss: 1.223 | Gen: ethay aybybay onditionshedway issway orkfondway\n",
            "Epoch:  75 | Train loss: 0.759 | Val loss: 1.218 | Gen: ethay ayghay onditionshedway issway orkfondway\n",
            "Epoch:  76 | Train loss: 0.755 | Val loss: 1.233 | Gen: ethay aybybay onditionshedway issway orkfondway\n",
            "Epoch:  77 | Train loss: 0.754 | Val loss: 1.221 | Gen: ethay ayghay onditionshedway issway orkfondway\n",
            "Epoch:  78 | Train loss: 0.754 | Val loss: 1.301 | Gen: ethay aygray ondintionsshay issway orkfondway\n",
            "Epoch:  79 | Train loss: 0.768 | Val loss: 1.288 | Gen: ethay-inway-erberay ayghay onditionshedway issway orkingway\n",
            "Epoch:  80 | Train loss: 0.773 | Val loss: 1.292 | Gen: ehay-awlay aingway onditionsedway issay orkfonfurday\n",
            "Epoch:  81 | Train loss: 0.774 | Val loss: 1.264 | Gen: ethay aygray onditionshedway issway orkingway\n",
            "Epoch:  82 | Train loss: 0.758 | Val loss: 1.340 | Gen: ethay aygray ondingssreshay issway orkfonway-ybay\n",
            "Epoch:  83 | Train loss: 0.756 | Val loss: 1.282 | Gen: ethay aygray onditionshedway issway orkfondway-ofway\n",
            "Epoch:  84 | Train loss: 0.744 | Val loss: 1.279 | Gen: ethay aygray onditionshedway issway orkfonday\n",
            "Epoch:  85 | Train loss: 0.741 | Val loss: 1.263 | Gen: ethay aygray ondingsentway-inway- isway orkfondway-ybay\n",
            "Epoch:  86 | Train loss: 0.741 | Val loss: 1.267 | Gen: ethay aygray onditionshedway issway orkfondway\n",
            "Epoch:  87 | Train loss: 0.736 | Val loss: 1.300 | Gen: ethay aygray ondintionssay-inway- issay orkfonuway\n",
            "Epoch:  88 | Train loss: 0.746 | Val loss: 1.352 | Gen: ethay-owhay aygray onditionshay issway orkingway\n",
            "Epoch:  89 | Train loss: 0.758 | Val loss: 1.267 | Gen: ethay aygray ondintionssay issay orkfunsday\n",
            "Epoch:  90 | Train loss: 0.743 | Val loss: 1.297 | Gen: ethay aygray onditionshay issway orkfondway\n",
            "Epoch:  91 | Train loss: 0.749 | Val loss: 1.263 | Gen: ebhay-ardway aygray ondingsingsray issway orkingway\n",
            "Epoch:  92 | Train loss: 0.738 | Val loss: 1.237 | Gen: ethay aygray ondingsentshay issay orkfondway\n",
            "Epoch:  93 | Train loss: 0.730 | Val loss: 1.261 | Gen: ethay aygray ondingssresshay issay orkfonuway\n",
            "Epoch:  94 | Train loss: 0.725 | Val loss: 1.300 | Gen: ethay-awlay aygray onditionshedway issway orkingway\n",
            "Epoch:  95 | Train loss: 0.740 | Val loss: 1.236 | Gen: ebhay aygray onditionshedway issay orkfonuway\n",
            "Epoch:  96 | Train loss: 0.719 | Val loss: 1.277 | Gen: ebay-ovedway-ybay aybybay onditionsshay issay orkfondway\n",
            "Epoch:  97 | Train loss: 0.727 | Val loss: 1.214 | Gen: ethay-inway-awlay aygray ondingssershay isway orkingway\n",
            "Epoch:  98 | Train loss: 0.712 | Val loss: 1.215 | Gen: ethay aygray ondingssresshay issay orkingway\n",
            "Epoch:  99 | Train loss: 0.705 | Val loss: 1.198 | Gen: ethay aygray ondingssresshay issay orkfonday\n",
            "source:\t\tthe air conditioning is working \n",
            "translated:\tethay aygray ondingssresshay issay orkfonday\n"
          ],
          "name": "stdout"
        }
      ]
    },
    {
      "cell_type": "markdown",
      "metadata": {
        "id": "cE4ijaCzneAt",
        "colab_type": "text"
      },
      "source": [
        "Try translating different sentences by changing the variable TEST_SENTENCE. Identify two distinct failure modes and briefly describe them."
      ]
    },
    {
      "cell_type": "code",
      "metadata": {
        "id": "WrNnz8W1nULf",
        "colab_type": "code",
        "colab": {
          "base_uri": "https://localhost:8080/",
          "height": 50
        },
        "outputId": "688475f6-89ae-44df-8114-ab377f992c97"
      },
      "source": [
        "TEST_SENTENCE = 'the air conditioning is working'\n",
        "translated = translate_sentence(TEST_SENTENCE, rnn_encoder, rnn_decoder, None, args)\n",
        "print(\"source:\\t\\t{} \\ntranslated:\\t{}\".format(TEST_SENTENCE, translated))"
      ],
      "execution_count": 12,
      "outputs": [
        {
          "output_type": "stream",
          "text": [
            "source:\t\tthe air conditioning is working \n",
            "translated:\tethay aygray ondingssresshay issay orkfonday\n"
          ],
          "name": "stdout"
        }
      ]
    },
    {
      "cell_type": "markdown",
      "metadata": {
        "id": "RWwA6OGqlaTq",
        "colab_type": "text"
      },
      "source": [
        "# Part 2: Additive Attention"
      ]
    },
    {
      "cell_type": "markdown",
      "metadata": {
        "id": "AJSafHSAmu_w",
        "colab_type": "text"
      },
      "source": [
        "## Step 1: Additive Attention\n",
        "Already implemented the additive attention mechanism. Write down the mathematical expression for $\\tilde{\\alpha}_i^{(t)}, \\alpha_i^{(t)}, c_t$ as a function of $W_1, W_2, b_1, b_2, Q_t, K_i$. "
      ]
    },
    {
      "cell_type": "code",
      "metadata": {
        "id": "AdewEVSMo5jJ",
        "colab_type": "code",
        "colab": {}
      },
      "source": [
        "class AdditiveAttention(nn.Module):\n",
        "    def __init__(self, hidden_size):\n",
        "        super(AdditiveAttention, self).__init__()\n",
        "\n",
        "        self.hidden_size = hidden_size\n",
        "\n",
        "        # A two layer fully-connected network\n",
        "        # hidden_size*2 --> hidden_size, ReLU, hidden_size --> 1\n",
        "        self.attention_network = nn.Sequential(\n",
        "                                    nn.Linear(hidden_size*2, hidden_size),\n",
        "                                    nn.ReLU(),\n",
        "                                    nn.Linear(hidden_size, 1)\n",
        "                                 )\n",
        "\n",
        "        self.softmax = nn.Softmax(dim=1)\n",
        "\n",
        "    def forward(self, queries, keys, values):\n",
        "        \"\"\"The forward pass of the additive attention mechanism.\n",
        "\n",
        "        Arguments:\n",
        "            queries: The current decoder hidden state. (batch_size x hidden_size)\n",
        "            keys: The encoder hidden states for each step of the input sequence. (batch_size x seq_len x hidden_size)\n",
        "            values: The encoder hidden states for each step of the input sequence. (batch_size x seq_len x hidden_size)\n",
        "\n",
        "        Returns:\n",
        "            context: weighted average of the values (batch_size x 1 x hidden_size)\n",
        "            attention_weights: Normalized attention weights for each encoder hidden state. (batch_size x seq_len x 1)\n",
        "\n",
        "            The attention_weights must be a softmax weighting over the seq_len annotations.\n",
        "        \"\"\"\n",
        "        batch_size = keys.size(0)\n",
        "        expanded_queries = queries.view(batch_size, -1, self.hidden_size).expand_as(keys)\n",
        "        concat_inputs = torch.cat([expanded_queries, keys], dim=2)\n",
        "        unnormalized_attention = self.attention_network(concat_inputs)\n",
        "        attention_weights = self.softmax(unnormalized_attention)\n",
        "        context = torch.bmm(attention_weights.transpose(2,1), values)\n",
        "        return context, attention_weights\n",
        "      "
      ],
      "execution_count": 0,
      "outputs": []
    },
    {
      "cell_type": "markdown",
      "metadata": {
        "id": "73_p8d5EmvOJ",
        "colab_type": "text"
      },
      "source": [
        "## Step 2: RNN Additive Attention Decoder\n",
        "We will now implement a recurrent decoder that makes use of the additive attention mechanism. Read the description in the assignment worksheet and complete the following implementation. "
      ]
    },
    {
      "cell_type": "code",
      "metadata": {
        "id": "RJaABkXrpJSw",
        "colab_type": "code",
        "colab": {}
      },
      "source": [
        "class RNNAttentionDecoder(nn.Module):\n",
        "    def __init__(self, vocab_size, hidden_size, attention_type='scaled_dot'):\n",
        "        super(RNNAttentionDecoder, self).__init__()\n",
        "        self.vocab_size = vocab_size\n",
        "        self.hidden_size = hidden_size\n",
        "\n",
        "        self.embedding = nn.Embedding(vocab_size, hidden_size)\n",
        "\n",
        "        self.rnn = MyGRUCell(input_size=hidden_size*2, hidden_size=hidden_size)\n",
        "        if attention_type == 'additive':\n",
        "          self.attention = AdditiveAttention(hidden_size=hidden_size)\n",
        "        elif attention_type == 'scaled_dot':\n",
        "          self.attention = ScaledDotAttention(hidden_size=hidden_size)\n",
        "        \n",
        "        self.out = nn.Linear(hidden_size, vocab_size)\n",
        "\n",
        "        \n",
        "    def forward(self, inputs, annotations, hidden_init):\n",
        "        \"\"\"Forward pass of the attention-based decoder RNN.\n",
        "\n",
        "        Arguments:\n",
        "            inputs: Input token indexes across a batch for all the time step. (batch_size x decoder_seq_len)\n",
        "            annotations: The encoder hidden states for each step of the input.\n",
        "                         sequence. (batch_size x seq_len x hidden_size)\n",
        "            hidden_init: The final hidden states from the encoder, across a batch. (batch_size x hidden_size)\n",
        "\n",
        "        Returns:\n",
        "            output: Un-normalized scores for each token in the vocabulary, across a batch for all the decoding time steps. (batch_size x decoder_seq_len x vocab_size)\n",
        "            attentions: The stacked attention weights applied to the encoder annotations (batch_size x encoder_seq_len x decoder_seq_len)\n",
        "        \"\"\"\n",
        "        \n",
        "        batch_size, seq_len = inputs.size()\n",
        "        embed = self.embedding(inputs)  # batch_size x seq_len x hidden_size        \n",
        "\n",
        "        hiddens = []\n",
        "        attentions = []\n",
        "        h_prev = hidden_init\n",
        "        for i in range(seq_len):\n",
        "            # ------------\n",
        "            # FILL THIS IN - START\n",
        "            # ------------\n",
        "            embed_current = embed[:,i,:]  # Get the current time step, across the whole batch\n",
        "            context, attention_weights = self.attention(\n",
        "                h_prev, # queries @ (bs, hidden_size)\n",
        "                annotations, # keys @ (bs, sl, hs)\n",
        "                annotations # values @ (bs, sl, hs)\n",
        "            )  # @ (batch_size, 1,  hidden_size) and (batch_size, seq_len, 1)\n",
        "            embed_and_context = torch.cat((\n",
        "                embed_current.view(batch_size, -1),\n",
        "                context.view(batch_size, -1)),\n",
        "                dim=1\n",
        "            )  # batch_size x (2*hidden_size) \n",
        "            h_prev = self.rnn(embed_and_context, h_prev)  # batch_size x hidden_size \n",
        "            # ------------\n",
        "            # FILL THIS IN - END\n",
        "            # ------------    \n",
        "            \n",
        "            hiddens.append(h_prev)\n",
        "            attentions.append(attention_weights)\n",
        "\n",
        "        hiddens = torch.stack(hiddens, dim=1) # batch_size x seq_len x hidden_size\n",
        "        attentions = torch.cat(attentions, dim=2) # batch_size x seq_len x seq_len\n",
        "        \n",
        "        output = self.out(hiddens)  # batch_size x seq_len x vocab_size\n",
        "        return output, attentions\n",
        "        "
      ],
      "execution_count": 0,
      "outputs": []
    },
    {
      "cell_type": "markdown",
      "metadata": {
        "id": "vYPae08Io1Fi",
        "colab_type": "text"
      },
      "source": [
        "## Step 3: Training and Analysis\n",
        "Train the following language model that uses a recurrent encoder, and a recurrent decoder that has an additive attention component. "
      ]
    },
    {
      "cell_type": "code",
      "metadata": {
        "id": "o3-FuzY1pepu",
        "colab_type": "code",
        "colab": {
          "base_uri": "https://localhost:8080/",
          "height": 1000
        },
        "outputId": "96108543-5d3b-4d56-f20b-f554302ffbf9"
      },
      "source": [
        "TEST_SENTENCE = 'the air conditioning is working'\n",
        "\n",
        "args = AttrDict()\n",
        "args_dict = {\n",
        "              'cuda':True, \n",
        "              'nepochs':100, \n",
        "              'checkpoint_dir':\"checkpoints\", \n",
        "              'learning_rate':0.005, \n",
        "              'lr_decay':0.99,\n",
        "              'batch_size':64, \n",
        "              'hidden_size':20, \n",
        "              'encoder_type': 'rnn', # options: rnn / transformer\n",
        "              'decoder_type': 'rnn_attention', # options: rnn / rnn_attention / transformer\n",
        "              'attention_type': 'additive',  # options: additive / scaled_dot\n",
        "}\n",
        "args.update(args_dict)\n",
        "\n",
        "print_opts(args)\n",
        "rnn_attn_encoder, rnn_attn_decoder = train(args)\n",
        "\n",
        "translated = translate_sentence(TEST_SENTENCE, rnn_attn_encoder, rnn_attn_decoder, None, args)\n",
        "print(\"source:\\t\\t{} \\ntranslated:\\t{}\".format(TEST_SENTENCE, translated))"
      ],
      "execution_count": 15,
      "outputs": [
        {
          "output_type": "stream",
          "text": [
            "================================================================================\n",
            "                                      Opts                                      \n",
            "--------------------------------------------------------------------------------\n",
            "                                   cuda: 1                                      \n",
            "                                nepochs: 100                                    \n",
            "                         checkpoint_dir: checkpoints                            \n",
            "                          learning_rate: 0.005                                  \n",
            "                               lr_decay: 0.99                                   \n",
            "                             batch_size: 64                                     \n",
            "                            hidden_size: 20                                     \n",
            "                           encoder_type: rnn                                    \n",
            "                           decoder_type: rnn_attention                          \n",
            "                         attention_type: additive                               \n",
            "================================================================================\n",
            "================================================================================\n",
            "                                   Data Stats                                   \n",
            "--------------------------------------------------------------------------------\n",
            "('contrived', 'ontrivedcay')\n",
            "('gilberts', 'ilbertsgay')\n",
            "('agitated', 'agitatedway')\n",
            "('strictest', 'icteststray')\n",
            "('gaining', 'aininggay')\n",
            "Num unique word pairs: 6387\n",
            "Vocabulary: dict_keys(['-', 'a', 'b', 'c', 'd', 'e', 'f', 'g', 'h', 'i', 'j', 'k', 'l', 'm', 'n', 'o', 'p', 'q', 'r', 's', 't', 'u', 'v', 'w', 'x', 'y', 'z', 'SOS', 'EOS'])\n",
            "Vocab size: 29\n",
            "================================================================================\n",
            "Moved models to GPU!\n",
            "Epoch:   0 | Train loss: 2.213 | Val loss: 1.976 | Gen: otestay-intay-intay- away ontinsay onsay onsay-insay-insay-in\n",
            "Epoch:   1 | Train loss: 1.731 | Val loss: 1.817 | Gen: othay-y-othay-y-otha away ondingday-ingway insay-issay-issay-is onsingsay-ingsay-ing\n",
            "Epoch:   2 | Train loss: 1.536 | Val loss: 1.646 | Gen: othay away onsingsay issay-issay orsingshay\n",
            "Epoch:   3 | Train loss: 1.362 | Val loss: 1.587 | Gen: othtay away ondgay-ingway issay-issay-issay-is orshingghay\n",
            "Epoch:   4 | Train loss: 1.206 | Val loss: 1.416 | Gen: etay away ondingway issay orrongingway\n",
            "Epoch:   5 | Train loss: 1.068 | Val loss: 1.375 | Gen: eftay away ondingingingway issirray orshinginggay\n",
            "Epoch:   6 | Train loss: 0.916 | Val loss: 1.320 | Gen: eththay away onditiondingingingay issay orsingday\n",
            "Epoch:   7 | Train loss: 0.806 | Val loss: 1.254 | Gen: etay airyway onditingingingway issisay orlingway\n",
            "Epoch:   8 | Train loss: 0.686 | Val loss: 1.064 | Gen: etay aiway onditiongiongiongay- ispy-y-iway orliorway\n",
            "Epoch:   9 | Train loss: 0.575 | Val loss: 1.130 | Gen: ethay arway onditingay-ongway ispy orkingway\n",
            "Epoch:  10 | Train loss: 0.531 | Val loss: 0.865 | Gen: etay airway onditiongingingingay isway orkingway\n",
            "Epoch:  11 | Train loss: 0.441 | Val loss: 0.747 | Gen: ethay ariway ondititiongway isway orkinglway\n",
            "Epoch:  12 | Train loss: 0.356 | Val loss: 0.738 | Gen: etay arway onditioningway isway orkingway\n",
            "Epoch:  13 | Train loss: 0.341 | Val loss: 0.877 | Gen: ethay arrway onditiongcay isway orkingway\n",
            "Epoch:  14 | Train loss: 0.283 | Val loss: 0.623 | Gen: ethay airway onditiongcay isway orkingway\n",
            "Epoch:  15 | Train loss: 0.270 | Val loss: 1.147 | Gen: ethay ay-reway onditioniongnay-oong isay orlingnyway\n",
            "Epoch:  16 | Train loss: 0.391 | Val loss: 0.665 | Gen: ethay array onditiongicgay isway orkingway\n",
            "Epoch:  17 | Train loss: 0.219 | Val loss: 0.496 | Gen: ethay airway onditioningcay isway orkingway\n",
            "Epoch:  18 | Train loss: 0.185 | Val loss: 0.527 | Gen: ethay airway onditiongingcay isway orkingimrway\n",
            "Epoch:  19 | Train loss: 0.144 | Val loss: 0.484 | Gen: ethay airway onditioningcay isway orkingway\n",
            "Epoch:  20 | Train loss: 0.128 | Val loss: 0.478 | Gen: ethay airway onditioingay-ingcay isway orkingway\n",
            "Epoch:  21 | Train loss: 0.128 | Val loss: 0.440 | Gen: ethay airway onditioningcay isway orkingway\n",
            "Epoch:  22 | Train loss: 0.098 | Val loss: 0.492 | Gen: ethay airway onditioningway isway orkingway\n",
            "Epoch:  23 | Train loss: 0.116 | Val loss: 0.476 | Gen: ethhay airway onditioningcay isway orkingway\n",
            "Epoch:  24 | Train loss: 0.102 | Val loss: 0.955 | Gen: ethay airway onditioningcay isway orkingway\n",
            "Epoch:  25 | Train loss: 0.113 | Val loss: 0.753 | Gen: ethay airray ondititioningcay isay-y-iray orkingimgway\n",
            "Epoch:  26 | Train loss: 0.168 | Val loss: 1.187 | Gen: ethay arway onditiongcay isway orkingray\n",
            "Epoch:  27 | Train loss: 0.171 | Val loss: 0.459 | Gen: ethay airway onditiongay-ingcay isway orkingway\n",
            "Epoch:  28 | Train loss: 0.097 | Val loss: 0.575 | Gen: ethay airway onditioningcay isway orkingway\n",
            "Epoch:  29 | Train loss: 0.090 | Val loss: 0.452 | Gen: ethay airway onditioningcay isway orkingway\n",
            "Epoch:  30 | Train loss: 0.071 | Val loss: 1.370 | Gen: ethay airway onditioiningay isway orkingway-y-ongway\n",
            "Epoch:  31 | Train loss: 0.114 | Val loss: 0.405 | Gen: ethay airway onditiongay isway orkingway\n",
            "Epoch:  32 | Train loss: 0.062 | Val loss: 0.317 | Gen: ethay airway onditiongay isway orkingway\n",
            "Epoch:  33 | Train loss: 0.046 | Val loss: 0.382 | Gen: ethay airay onditioningcay isway orkingway\n",
            "Epoch:  34 | Train loss: 0.054 | Val loss: 0.426 | Gen: ethay airway ondiitiongcay isway orkingway\n",
            "Epoch:  35 | Train loss: 0.092 | Val loss: 0.405 | Gen: ethay airway onditiongcay isway orkingway\n",
            "Epoch:  36 | Train loss: 0.053 | Val loss: 0.310 | Gen: ethay airway onditioningcay isway orkingway\n",
            "Epoch:  37 | Train loss: 0.028 | Val loss: 0.316 | Gen: ethay airway onditioningcay isway orkingway\n",
            "Epoch:  38 | Train loss: 0.033 | Val loss: 0.330 | Gen: ethay airway onditioningcay isway orkingway\n",
            "Epoch:  39 | Train loss: 0.030 | Val loss: 0.318 | Gen: ethay airway onditioningcay isway orkingway\n",
            "Epoch:  40 | Train loss: 0.023 | Val loss: 0.302 | Gen: ethay airway onditioningcay isway orkingway\n",
            "Epoch:  41 | Train loss: 0.019 | Val loss: 0.316 | Gen: ethay airway onditioningcay isway orkingway\n",
            "Epoch:  42 | Train loss: 0.017 | Val loss: 0.287 | Gen: ethay airway onditioningcay isway orkingway\n",
            "Epoch:  43 | Train loss: 0.012 | Val loss: 0.275 | Gen: ethay airway onditioningcay isway orkingway\n",
            "Epoch:  44 | Train loss: 0.011 | Val loss: 0.279 | Gen: ethay airway onditioningcay isway orkingway\n",
            "Epoch:  45 | Train loss: 0.009 | Val loss: 0.282 | Gen: ethay airway onditioningcay isway orkingway\n",
            "Epoch:  46 | Train loss: 0.008 | Val loss: 0.283 | Gen: ethay airway onditioningcay isway orkingway\n",
            "Epoch:  47 | Train loss: 0.007 | Val loss: 0.277 | Gen: ethay airway onditioningcay isway orkingway\n",
            "Epoch:  48 | Train loss: 0.006 | Val loss: 0.293 | Gen: ethay airway onditioningcay isway orkingway\n",
            "Epoch:  49 | Train loss: 0.006 | Val loss: 0.287 | Gen: ethay airway onditioningcay isway orkingway\n",
            "Epoch:  50 | Train loss: 0.022 | Val loss: 0.987 | Gen: ethay airray ondiitiongcay isway orkingway\n",
            "Epoch:  51 | Train loss: 0.264 | Val loss: 0.804 | Gen: ethay airway onditioningcay isway orkingway\n",
            "Epoch:  52 | Train loss: 0.196 | Val loss: 0.610 | Gen: ethay airway onditiongay isway orkingway\n",
            "Epoch:  53 | Train loss: 0.153 | Val loss: 0.412 | Gen: ethay airway onditioningcay isway orkingway\n",
            "Epoch:  54 | Train loss: 0.057 | Val loss: 0.313 | Gen: ethay airway onditiongcay isway orkingway\n",
            "Epoch:  55 | Train loss: 0.028 | Val loss: 0.288 | Gen: ethay airway onditiongnay isway orkingway\n",
            "Epoch:  56 | Train loss: 0.019 | Val loss: 0.288 | Gen: ethay airway onditiongnay isway orkingway\n",
            "Epoch:  57 | Train loss: 0.014 | Val loss: 0.284 | Gen: ethay airway onditiongnay isway orkingway\n",
            "Epoch:  58 | Train loss: 0.011 | Val loss: 0.279 | Gen: ethay airway onditiongnay isway orkingway\n",
            "Epoch:  59 | Train loss: 0.010 | Val loss: 0.278 | Gen: ethay airway onditiongnay isway orkingway\n",
            "Epoch:  60 | Train loss: 0.009 | Val loss: 0.278 | Gen: ethay airway onditiongnay isway orkingway\n",
            "Epoch:  61 | Train loss: 0.008 | Val loss: 0.273 | Gen: ethay airway onditiongnay isway orkingway\n",
            "Epoch:  62 | Train loss: 0.007 | Val loss: 0.274 | Gen: ethay airway onditiongnay isway orkingway\n",
            "Epoch:  63 | Train loss: 0.006 | Val loss: 0.273 | Gen: ethay airway onditiongnay isway orkingway\n",
            "Epoch:  64 | Train loss: 0.006 | Val loss: 0.274 | Gen: ethay airway onditiongnay isway orkingway\n",
            "Epoch:  65 | Train loss: 0.005 | Val loss: 0.274 | Gen: ethay airway onditiongnay isway orkingway\n",
            "Epoch:  66 | Train loss: 0.005 | Val loss: 0.273 | Gen: ethay airway onditiongnay isway orkingway\n",
            "Epoch:  67 | Train loss: 0.004 | Val loss: 0.274 | Gen: ethay airway onditiongnay isway orkingway\n",
            "Epoch:  68 | Train loss: 0.004 | Val loss: 0.275 | Gen: ethay airway onditiongnay isway orkingway\n",
            "Epoch:  69 | Train loss: 0.004 | Val loss: 0.276 | Gen: ethay airway onditiongnay isway orkingway\n",
            "Epoch:  70 | Train loss: 0.003 | Val loss: 0.274 | Gen: ethay airway onditiongnay isway orkingway\n",
            "Epoch:  71 | Train loss: 0.003 | Val loss: 0.276 | Gen: ethay airway onditiongnay isway orkingway\n",
            "Epoch:  72 | Train loss: 0.003 | Val loss: 0.277 | Gen: ethay airway onditiongnay isway orkingway\n",
            "Epoch:  73 | Train loss: 0.003 | Val loss: 0.277 | Gen: ethay airway onditiongnay isway orkingway\n",
            "Epoch:  74 | Train loss: 0.003 | Val loss: 0.277 | Gen: ethay airway onditiongnay isway orkingway\n",
            "Epoch:  75 | Train loss: 0.002 | Val loss: 0.278 | Gen: ethay airway onditiongnay isway orkingway\n",
            "Epoch:  76 | Train loss: 0.002 | Val loss: 0.278 | Gen: ethay airway onditiongnay isway orkingway\n",
            "Epoch:  77 | Train loss: 0.002 | Val loss: 0.279 | Gen: ethay airway onditiongnay isway orkingway\n",
            "Epoch:  78 | Train loss: 0.002 | Val loss: 0.279 | Gen: ethay airway onditiongnay isway orkingway\n",
            "Epoch:  79 | Train loss: 0.002 | Val loss: 0.279 | Gen: ethay airway onditiongnay isway orkingway\n",
            "Epoch:  80 | Train loss: 0.002 | Val loss: 0.278 | Gen: ethay airway onditiongnay isway orkingway\n",
            "Epoch:  81 | Train loss: 0.002 | Val loss: 0.280 | Gen: ethay airway onditiongnay isway orkingway\n",
            "Epoch:  82 | Train loss: 0.002 | Val loss: 0.279 | Gen: ethay airway onditioningcay isway orkingway\n",
            "Epoch:  83 | Train loss: 0.001 | Val loss: 0.279 | Gen: ethay airway onditioningcay isway orkingway\n",
            "Epoch:  84 | Train loss: 0.001 | Val loss: 0.279 | Gen: ethay airway onditioningcay isway orkingway\n",
            "Epoch:  85 | Train loss: 0.001 | Val loss: 0.279 | Gen: ethay airway onditioningcay isway orkingway\n",
            "Epoch:  86 | Train loss: 0.001 | Val loss: 0.278 | Gen: ethay airway onditioningcay isway orkingway\n",
            "Epoch:  87 | Train loss: 0.001 | Val loss: 0.279 | Gen: ethay airway onditioningcay isway orkingway\n",
            "Epoch:  88 | Train loss: 0.001 | Val loss: 0.277 | Gen: ethay airway onditioningcay isway orkingway\n",
            "Epoch:  89 | Train loss: 0.001 | Val loss: 0.278 | Gen: ethay airway onditioningcay isway orkingway\n",
            "Epoch:  90 | Train loss: 0.001 | Val loss: 0.276 | Gen: ethay airway onditioningcay isway orkingway\n",
            "Epoch:  91 | Train loss: 0.001 | Val loss: 0.279 | Gen: ethay airway onditioningcay isway orkingway\n",
            "Epoch:  92 | Train loss: 0.133 | Val loss: 0.837 | Gen: ehay airay ondiitiongnycay isay orkingway\n",
            "Epoch:  93 | Train loss: 0.178 | Val loss: 0.616 | Gen: ethay airway onditioningcay isway orkingway\n",
            "Epoch:  94 | Train loss: 0.058 | Val loss: 0.258 | Gen: ethay airway onditiongnay isway orkingway\n",
            "Epoch:  95 | Train loss: 0.016 | Val loss: 0.227 | Gen: ethay airway onditioningcay isway orkingway\n",
            "Epoch:  96 | Train loss: 0.010 | Val loss: 0.217 | Gen: ethay airway onditioningcay isway orkingway\n",
            "Epoch:  97 | Train loss: 0.007 | Val loss: 0.214 | Gen: ethay airway onditioningcay isway orkingway\n",
            "Epoch:  98 | Train loss: 0.005 | Val loss: 0.221 | Gen: ethay airway onditioningcay isway orkingway\n",
            "Epoch:  99 | Train loss: 0.004 | Val loss: 0.223 | Gen: ethay airway onditioningcay isway orkingway\n",
            "source:\t\tthe air conditioning is working \n",
            "translated:\tethay airway onditioningcay isway orkingway\n"
          ],
          "name": "stdout"
        }
      ]
    },
    {
      "cell_type": "code",
      "metadata": {
        "id": "VNVKbLc0ACj_",
        "colab_type": "code",
        "colab": {
          "base_uri": "https://localhost:8080/",
          "height": 50
        },
        "outputId": "cd6070a5-73d6-4012-cc82-50135ea2b587"
      },
      "source": [
        "TEST_SENTENCE = 'the air conditioning is working'\n",
        "translated = translate_sentence(TEST_SENTENCE, rnn_attn_encoder, rnn_attn_decoder, None, args)\n",
        "print(\"source:\\t\\t{} \\ntranslated:\\t{}\".format(TEST_SENTENCE, translated))"
      ],
      "execution_count": 16,
      "outputs": [
        {
          "output_type": "stream",
          "text": [
            "source:\t\tthe air conditioning is working \n",
            "translated:\tethay airway onditioningcay isway orkingway\n"
          ],
          "name": "stdout"
        }
      ]
    },
    {
      "cell_type": "markdown",
      "metadata": {
        "id": "kw_GOIvzo1ix",
        "colab_type": "text"
      },
      "source": [
        "# Part 3: Scaled Dot Product Attention"
      ]
    },
    {
      "cell_type": "markdown",
      "metadata": {
        "id": "xq7nhsEio1w-",
        "colab_type": "text"
      },
      "source": [
        "## Step 1: Implement Dot-Product Attention\n",
        "Implement the scaled dot product attention module described in the assignment worksheet. "
      ]
    },
    {
      "cell_type": "code",
      "metadata": {
        "id": "d_j3oY3hqsJQ",
        "colab_type": "code",
        "colab": {}
      },
      "source": [
        "class ScaledDotAttention(nn.Module):\n",
        "    def __init__(self, hidden_size):\n",
        "        super(ScaledDotAttention, self).__init__()\n",
        "\n",
        "        self.hidden_size = hidden_size\n",
        "\n",
        "        self.Q = nn.Linear(hidden_size, hidden_size)\n",
        "        self.K = nn.Linear(hidden_size, hidden_size)\n",
        "        self.V = nn.Linear(hidden_size, hidden_size)\n",
        "        self.softmax = nn.Softmax(dim=1)\n",
        "        self.scaling_factor = torch.rsqrt(torch.tensor(self.hidden_size, dtype= torch.float))\n",
        "\n",
        "    def forward(self, queries, keys, values):\n",
        "        \"\"\"The forward pass of the scaled dot attention mechanism.\n",
        "\n",
        "        Arguments:\n",
        "            queries: The current decoder hidden state, 2D or 3D tensor. (batch_size x (k) x hidden_size)\n",
        "            keys: The encoder hidden states for each step of the input sequence. (batch_size x seq_len x hidden_size)\n",
        "            values: The encoder hidden states for each step of the input sequence. (batch_size x seq_len x hidden_size)\n",
        "\n",
        "        Returns:\n",
        "            context: weighted average of the values (batch_size x k x hidden_size)\n",
        "            attention_weights: Normalized attention weights for each encoder hidden state. (batch_size x seq_len x 1)\n",
        "\n",
        "            The output must be a softmax weighting over the seq_len annotations.\n",
        "        \"\"\"\n",
        "\n",
        "        # ------------\n",
        "        # FILL THIS IN\n",
        "        # ------------\n",
        "        hidden_size = self.hidden_size\n",
        "        batch_size = queries.shape[0]\n",
        "        d = hidden_size\n",
        "        # Convert tensor to 3D.\n",
        "        # k is the number of queries.\n",
        "        queries = queries.view(batch_size, -1, hidden_size)\n",
        "        num_queries = queries.shape[1]\n",
        "        seq_len = keys.shape[1]\n",
        "        # Expand.\n",
        "        # keys = keys.expand(batch_size, seq_len, hidden_size)\n",
        "        # keys = torch.transpose(keys, dim0=0, dim1=1)\n",
        "\n",
        "        q = self.Q(queries) # @ (batch_size, k, hidden_size)\n",
        "        k = self.K(keys) # @ (batch_size, seq_len, hidden_size)\n",
        "        v = self.V(values) # @ (batch_size, seq_len, hidden_size)\n",
        "        q = torch.transpose(q, 1, 2) # @ (batch_size, hidden_size, k)\n",
        "        # print(\"q @\", q.shape)\n",
        "        # print(\"k @\", k.shape)\n",
        "        unnormalized_attention = torch.bmm(k, q) * self.scaling_factor\n",
        "        # unnormalized_attention @ (batch_size, seq_len, k)\n",
        "        # print(unnormalized_attention.shape)\n",
        "    \n",
        "        attention_weights = self.softmax(unnormalized_attention).transpose(1, 2) # @ (batch_size, k, seq_len)\n",
        "        context = torch.bmm(attention_weights, v) # @ (batch_size, k, hidden_size)\n",
        "        return context, attention_weights\n",
        "        "
      ],
      "execution_count": 0,
      "outputs": []
    },
    {
      "cell_type": "code",
      "metadata": {
        "id": "dA8oTAPqyv8O",
        "colab_type": "code",
        "colab": {}
      },
      "source": [
        "# Test code.\n",
        "att = ScaledDotAttention(20)\n",
        "annot = torch.randn(64, 10, 20)"
      ],
      "execution_count": 0,
      "outputs": []
    },
    {
      "cell_type": "code",
      "metadata": {
        "id": "3EcH2Luny8Zh",
        "colab_type": "code",
        "colab": {}
      },
      "source": [
        "c, a = att(annot, annot, annot)"
      ],
      "execution_count": 0,
      "outputs": []
    },
    {
      "cell_type": "markdown",
      "metadata": {
        "id": "unReAOrjo113",
        "colab_type": "text"
      },
      "source": [
        "## Step 2: Implement Causal Dot-Product Attention\n",
        "Now implement the scaled causal dot product described in the assignment worksheet. "
      ]
    },
    {
      "cell_type": "code",
      "metadata": {
        "id": "ovigzQffrKqj",
        "colab_type": "code",
        "colab": {}
      },
      "source": [
        "class CausalScaledDotAttention(nn.Module):\n",
        "    def __init__(self, hidden_size):\n",
        "        super(CausalScaledDotAttention, self).__init__()\n",
        "\n",
        "        self.hidden_size = hidden_size\n",
        "        self.neg_inf = torch.tensor(-1e7)\n",
        "\n",
        "        self.Q = nn.Linear(hidden_size, hidden_size)\n",
        "        self.K = nn.Linear(hidden_size, hidden_size)\n",
        "        self.V = nn.Linear(hidden_size, hidden_size)\n",
        "        self.softmax = nn.Softmax(dim=1)\n",
        "        self.scaling_factor = torch.rsqrt(torch.tensor(self.hidden_size, dtype= torch.float))\n",
        "\n",
        "    def forward(self, queries, keys, values):\n",
        "        \"\"\"The forward pass of the scaled dot attention mechanism.\n",
        "\n",
        "        Arguments:\n",
        "            queries: The current decoder hidden state, 2D or 3D tensor. (batch_size x (k) x hidden_size)\n",
        "            keys: The encoder hidden states for each step of the input sequence. (batch_size x seq_len x hidden_size)\n",
        "            values: The encoder hidden states for each step of the input sequence. (batch_size x seq_len x hidden_size)\n",
        "\n",
        "        Returns:\n",
        "            context: weighted average of the values (batch_size x k x hidden_size)\n",
        "            attention_weights: Normalized attention weights for each encoder hidden state. (batch_size x seq_len x 1)\n",
        "\n",
        "            The output must be a softmax weighting over the seq_len annotations.\n",
        "        \"\"\"\n",
        "\n",
        "        # ------------\n",
        "        # FILL THIS IN\n",
        "        # ------------\n",
        "        hidden_size = self.hidden_size\n",
        "        batch_size = queries.shape[0]\n",
        "        d = hidden_size\n",
        "        # Convert tensor to 3D.\n",
        "        # k is the number of queries.\n",
        "        queries = queries.view(batch_size, -1, hidden_size)\n",
        "        num_queries = queries.shape[1]\n",
        "        seq_len = keys.shape[1]\n",
        "        # keys = keys.expand(batch_size, seq_len, hidden_size)\n",
        "        # keys = torch.transpose(keys, dim0=0, dim1=1)\n",
        "\n",
        "        q = self.Q(queries) # @ (batch_size, k, hidden_size)\n",
        "        k = self.K(keys) # @ (batch_size, seq_len, hidden_size)\n",
        "        v = self.V(values) # @ (batch_size, seq_len, hidden_size)\n",
        "        q = torch.transpose(q, 2, 1) # @ (batch_size, hidden_size, k)\n",
        "        # print(\"q @\", q.shape)\n",
        "        # print(\"k @\", k.shape)\n",
        "        unnormalized_attention = torch.bmm(k, q) * self.scaling_factor\n",
        "        # unnormalized_attention @ (batch_size, seq_len, k)\n",
        "        # print(unnormalized_attention.shape)\n",
        "        # ==== Enforce Casual ====\n",
        "        # Mask looks like\n",
        "        \"\"\"\n",
        "        tensor([[0., 1., 1., 1.],\n",
        "                [0., 0., 1., 1.],\n",
        "                [0., 0., 0., 1.]]) * -inf.\n",
        "        \"\"\"\n",
        "        mask = torch.tril(torch.ones_like(unnormalized_attention)) * self.neg_inf\n",
        "        unnormalized_attention += mask\n",
        "        # ==== End ====\n",
        "        attention_weights = self.softmax(unnormalized_attention).transpose(1, 2) # @ (batch_size, k, seq_len)\n",
        "        context = torch.bmm(attention_weights, v) # @ (batch_size, k, hidden_size)\n",
        "        return context, attention_weights\n",
        "        "
      ],
      "execution_count": 0,
      "outputs": []
    },
    {
      "cell_type": "markdown",
      "metadata": {
        "id": "9tcpUFKqo2Oi",
        "colab_type": "text"
      },
      "source": [
        "## Step 3: Transformer Encoder\n",
        "Complete the following transformer encoder implementation. "
      ]
    },
    {
      "cell_type": "code",
      "metadata": {
        "id": "N3B-fWsarlVk",
        "colab_type": "code",
        "colab": {}
      },
      "source": [
        "class TransformerEncoder(nn.Module):\n",
        "    def __init__(self, vocab_size, hidden_size, num_layers, opts):\n",
        "        super(TransformerEncoder, self).__init__()\n",
        "\n",
        "        self.vocab_size = vocab_size\n",
        "        self.hidden_size = hidden_size\n",
        "        self.num_layers = num_layers\n",
        "        self.opts = opts\n",
        "\n",
        "        self.embedding = nn.Embedding(vocab_size, hidden_size)\n",
        "        \n",
        "        # IMPORTANT CORRECTION: NON-CAUSAL ATTENTION SHOULD HAVE BEEN\n",
        "        # USED IN THE TRANSFORMER ENCODER. \n",
        "        # NEW VERSION: \n",
        "        self.self_attentions = nn.ModuleList([ScaledDotAttention(\n",
        "                                    hidden_size=hidden_size, \n",
        "                                 ) for i in range(self.num_layers)])\n",
        "        # PREVIONS VERSION: \n",
        "        # self.self_attentions = nn.ModuleList([CausalScaledDotAttention(\n",
        "        #                             hidden_size=hidden_size, \n",
        "        #                          ) for i in range(self.num_layers)])\n",
        "        self.attention_mlps = nn.ModuleList([nn.Sequential(\n",
        "                                    nn.Linear(hidden_size, hidden_size),\n",
        "                                    nn.ReLU(),\n",
        "                                 ) for i in range(self.num_layers)])\n",
        "\n",
        "        self.positional_encodings = self.create_positional_encodings()\n",
        "\n",
        "    def forward(self, inputs):\n",
        "        \"\"\"Forward pass of the encoder RNN.\n",
        "\n",
        "        Arguments:\n",
        "            inputs: Input token indexes across a batch for all time steps in the sequence. (batch_size x seq_len)\n",
        "\n",
        "        Returns:\n",
        "            annotations: The hidden states computed at each step of the input sequence. (batch_size x seq_len x hidden_size)\n",
        "            hidden: The final hidden state of the encoder, for each sequence in a batch. (batch_size x hidden_size)\n",
        "        \"\"\"\n",
        "\n",
        "        batch_size, seq_len = inputs.size()\n",
        "        # ------------\n",
        "        # FILL THIS IN - START\n",
        "        # ------------\n",
        "        encoded = self.embedding(inputs)  # @ (batch_size, seq_len, hidden_size)\n",
        "\n",
        "        # Add positinal embeddings from self.create_positional_encodings. (a'la https://arxiv.org/pdf/1706.03762.pdf, section 3.5)\n",
        "        # self.positional_encodings @ (max_seq_len, hidden_size)\n",
        "        # Get the first few positional encodings.\n",
        "        # pos = self.positional_encodings[:seq_len, :] # @ (seq_len, hidden_size)\n",
        "        # Expand to batches.\n",
        "        # pos = pos.expand(batch_size, seq_len, self.hidden_size)\n",
        "        encoded = encoded + self.positional_encodings[:seq_len]\n",
        "\n",
        "        # Initiate hidden states, the first hidden state is the embedded input layer.\n",
        "        annotations = encoded # @ (batch_size, seq_len, hidden_size)\n",
        "        # ==== Shapes ====\n",
        "        # print(inputs.shape) # 64, 10\n",
        "        # print(self.embedding(inputs).shape) # 64, 10, 20\n",
        "        # print(annotations.shape) # 64, 10, 20\n",
        "        # ==== End ====\n",
        "        for i in range(self.num_layers):\n",
        "            new_annotations, self_attention_weights = self.self_attentions[i](\n",
        "                annotations, annotations, annotations\n",
        "            )  # batch_size x seq_len x hidden_size\n",
        "            # annotation with residual added.\n",
        "            residual_annotations = annotations + new_annotations\n",
        "            new_annotations = self.attention_mlps[i](residual_annotations)\n",
        "            # Update annotations, the output of this layer.\n",
        "            annotations = residual_annotations + new_annotations\n",
        "        # ------------\n",
        "        # FILL THIS IN - END\n",
        "        # ------------\n",
        "\n",
        "        # Transformer encoder does not have a last hidden layer. \n",
        "        return annotations, None  \n",
        "\n",
        "    def create_positional_encodings(self, max_seq_len=1000):\n",
        "      \"\"\"Creates positional encodings for the inputs.\n",
        "\n",
        "      Arguments:\n",
        "          max_seq_len: a number larger than the maximum string length we expect to encounter during training\n",
        "\n",
        "      Returns:\n",
        "          pos_encodings: (max_seq_len, hidden_dim) Positional encodings for a sequence with length max_seq_len. \n",
        "      \"\"\"\n",
        "      pos_indices = torch.arange(max_seq_len)[..., None]\n",
        "      dim_indices = torch.arange(self.hidden_size//2)[None, ...]\n",
        "      exponents = (2*dim_indices).float()/(self.hidden_size)\n",
        "      trig_args = pos_indices / (10000**exponents)\n",
        "      sin_terms = torch.sin(trig_args)\n",
        "      cos_terms = torch.cos(trig_args)\n",
        "\n",
        "      pos_encodings = torch.zeros((max_seq_len, self.hidden_size))\n",
        "      pos_encodings[:, 0::2] = sin_terms\n",
        "      pos_encodings[:, 1::2] = cos_terms\n",
        "\n",
        "      if self.opts.cuda:\n",
        "        pos_encodings = pos_encodings.cuda()\n",
        "\n",
        "      return pos_encodings\n",
        "\n"
      ],
      "execution_count": 0,
      "outputs": []
    },
    {
      "cell_type": "markdown",
      "metadata": {
        "id": "z1hDi020rT36",
        "colab_type": "text"
      },
      "source": [
        "## Step 4: Transformer Decoder\n",
        "Complete the following transformer decoder implementation. "
      ]
    },
    {
      "cell_type": "code",
      "metadata": {
        "id": "nyvTZFxtrvc6",
        "colab_type": "code",
        "colab": {}
      },
      "source": [
        "class TransformerDecoder(nn.Module):\n",
        "    def __init__(self, vocab_size, hidden_size, num_layers):\n",
        "        super(TransformerDecoder, self).__init__()\n",
        "        self.vocab_size = vocab_size\n",
        "        self.hidden_size = hidden_size\n",
        "\n",
        "        self.embedding = nn.Embedding(vocab_size, hidden_size)        \n",
        "        self.num_layers = num_layers\n",
        "        \n",
        "        self.self_attentions = nn.ModuleList([CausalScaledDotAttention(\n",
        "                                    hidden_size=hidden_size, \n",
        "                                 ) for i in range(self.num_layers)])\n",
        "        self.encoder_attentions = nn.ModuleList([ScaledDotAttention(\n",
        "                                    hidden_size=hidden_size, \n",
        "                                 ) for i in range(self.num_layers)])\n",
        "        self.attention_mlps = nn.ModuleList([nn.Sequential(\n",
        "                                    nn.Linear(hidden_size, hidden_size),\n",
        "                                    nn.ReLU(),\n",
        "                                 ) for i in range(self.num_layers)])\n",
        "        self.out = nn.Linear(hidden_size, vocab_size)\n",
        "\n",
        "        self.positional_encodings = self.create_positional_encodings()\n",
        "\n",
        "    def forward(self, inputs, annotations, hidden_init):\n",
        "        \"\"\"Forward pass of the attention-based decoder RNN.\n",
        "\n",
        "        Arguments:\n",
        "            inputs: Input token indexes across a batch for all the time step. (batch_size x decoder_seq_len)\n",
        "            annotations: The encoder hidden states for each step of the input.\n",
        "                         sequence. (batch_size x seq_len x hidden_size)\n",
        "            hidden_init: Not used in the transformer decoder\n",
        "        Returns:\n",
        "            output: Un-normalized scores for each token in the vocabulary, across a batch for all the decoding time steps. (batch_size x decoder_seq_len x vocab_size)\n",
        "            attentions: The stacked attention weights applied to the encoder annotations (batch_size x encoder_seq_len x decoder_seq_len)\n",
        "        \"\"\"\n",
        "        \n",
        "        batch_size, seq_len = inputs.size()\n",
        "        embed = self.embedding(inputs)  # batch_size x seq_len x hidden_size \n",
        "\n",
        "        # THIS LINE WAS ADDED AS A CORRECTION. \n",
        "        embed = embed + self.positional_encodings[:seq_len]       \n",
        "\n",
        "        encoder_attention_weights_list = []\n",
        "        self_attention_weights_list = []\n",
        "\n",
        "        # Decoder: the input fed to the first layer.\n",
        "        contexts = embed # batch_size x seq_len x hidden_size \n",
        "        for i in range(self.num_layers):\n",
        "            # ------------\n",
        "            # FILL THIS IN - START\n",
        "            # ------------\n",
        "            new_contexts, self_attention_weights = self.self_attentions[i](\n",
        "                contexts, contexts, contexts\n",
        "            ) # batch_size x seq_len x hidden_size\n",
        "            # print(annotations.shape)\n",
        "            # print(new_contexts.shape)\n",
        "            # print(contexts.shape)\n",
        "            residual_contexts = contexts + new_contexts\n",
        "            new_contexts, encoder_attention_weights = self.encoder_attentions[i](\n",
        "                residual_contexts, annotations, annotations\n",
        "            ) # batch_size x seq_len x hidden_size\n",
        "            residual_contexts = residual_contexts + new_contexts\n",
        "            new_contexts = self.attention_mlps[i](residual_contexts)\n",
        "            contexts = residual_contexts + new_contexts\n",
        "\n",
        "            # ------------\n",
        "            # FILL THIS IN - END\n",
        "            # ------------\n",
        "          \n",
        "            encoder_attention_weights_list.append(encoder_attention_weights)\n",
        "            self_attention_weights_list.append(self_attention_weights)\n",
        "          \n",
        "        output = self.out(contexts)\n",
        "        encoder_attention_weights = torch.stack(encoder_attention_weights_list)\n",
        "        self_attention_weights = torch.stack(self_attention_weights_list)\n",
        "        \n",
        "        return output, (encoder_attention_weights, self_attention_weights)\n",
        "\n",
        "    def create_positional_encodings(self, max_seq_len=1000):\n",
        "      \"\"\"Creates positional encodings for the inputs.\n",
        "\n",
        "      Arguments:\n",
        "          max_seq_len: a number larger than the maximum string length we expect to encounter during training\n",
        "\n",
        "      Returns:\n",
        "          pos_encodings: (max_seq_len, hidden_dim) Positional encodings for a sequence with length max_seq_len. \n",
        "      \"\"\"\n",
        "      pos_indices = torch.arange(max_seq_len)[..., None]\n",
        "      dim_indices = torch.arange(self.hidden_size//2)[None, ...]\n",
        "      exponents = (2*dim_indices).float()/(self.hidden_size)\n",
        "      trig_args = pos_indices / (10000**exponents)\n",
        "      sin_terms = torch.sin(trig_args)\n",
        "      cos_terms = torch.cos(trig_args)\n",
        "\n",
        "      pos_encodings = torch.zeros((max_seq_len, self.hidden_size))\n",
        "      pos_encodings[:, 0::2] = sin_terms\n",
        "      pos_encodings[:, 1::2] = cos_terms\n",
        "\n",
        "      pos_encodings = pos_encodings.cuda()\n",
        "\n",
        "      return pos_encodings"
      ],
      "execution_count": 0,
      "outputs": []
    },
    {
      "cell_type": "markdown",
      "metadata": {
        "id": "29ZjkXTNrUKb",
        "colab_type": "text"
      },
      "source": [
        "\n",
        "## Step 5: Training and analysis\n",
        "Now, train the following language model that's comprised of a (simplified) transformer encoder and transformer decoder. "
      ]
    },
    {
      "cell_type": "code",
      "metadata": {
        "id": "SmoTgrDcr_dw",
        "colab_type": "code",
        "colab": {
          "base_uri": "https://localhost:8080/",
          "height": 672
        },
        "outputId": "ceb7c423-1293-4526-bb5b-267aa2f765c2"
      },
      "source": [
        "TEST_SENTENCE = 'the air conditioning is working'\n",
        "\n",
        "args = AttrDict()\n",
        "args_dict = {\n",
        "              'cuda':True, \n",
        "              'nepochs':100, \n",
        "              'checkpoint_dir':\"checkpoints\", \n",
        "              'learning_rate':0.005,  ## INCREASE BY AN ORDER OF MAGNITUDE\n",
        "              'lr_decay':0.99,\n",
        "              'batch_size':64, \n",
        "              'hidden_size':20, \n",
        "              'encoder_type': 'transformer',\n",
        "              'decoder_type': 'transformer', # options: rnn / rnn_attention / transformer\n",
        "              'num_transformer_layers': 3,\n",
        "}\n",
        "args.update(args_dict)\n",
        "\n",
        "print_opts(args)\n",
        "transformer_encoder, transformer_decoder = train(args)\n",
        "\n",
        "translated = translate_sentence(TEST_SENTENCE, transformer_encoder, transformer_decoder, None, args)\n",
        "print(\"source:\\t\\t{} \\ntranslated:\\t{}\".format(TEST_SENTENCE, translated))"
      ],
      "execution_count": 40,
      "outputs": [
        {
          "output_type": "stream",
          "text": [
            "================================================================================\n",
            "                                      Opts                                      \n",
            "--------------------------------------------------------------------------------\n",
            "                                   cuda: 1                                      \n",
            "                                nepochs: 100                                    \n",
            "                         checkpoint_dir: checkpoints                            \n",
            "                          learning_rate: 0.005                                  \n",
            "                               lr_decay: 0.99                                   \n",
            "                             batch_size: 64                                     \n",
            "                            hidden_size: 20                                     \n",
            "                           encoder_type: transformer                            \n",
            "                           decoder_type: transformer                            \n",
            "                 num_transformer_layers: 3                                      \n",
            "================================================================================\n",
            "================================================================================\n",
            "                                   Data Stats                                   \n",
            "--------------------------------------------------------------------------------\n",
            "('contrived', 'ontrivedcay')\n",
            "('gilberts', 'ilbertsgay')\n",
            "('agitated', 'agitatedway')\n",
            "('strictest', 'icteststray')\n",
            "('gaining', 'aininggay')\n",
            "Num unique word pairs: 6387\n",
            "Vocabulary: dict_keys(['-', 'a', 'b', 'c', 'd', 'e', 'f', 'g', 'h', 'i', 'j', 'k', 'l', 'm', 'n', 'o', 'p', 'q', 'r', 's', 't', 'u', 'v', 'w', 'x', 'y', 'z', 'SOS', 'EOS'])\n",
            "Vocab size: 29\n",
            "================================================================================\n",
            "Moved models to GPU!\n",
            "Epoch:   0 | Train loss: 2.201 | Val loss: 2.054 | Gen: etrtttteeety oarayEOSyiy ondayEOSnoy onsoooonny ortiiorany\n",
            "Epoch:   1 | Train loss: 1.645 | Val loss: 1.907 | Gen: eway-etewey eway-yyy oncoionnntcay ossasasay omay-y\n",
            "Epoch:   2 | Train loss: 1.422 | Val loss: 1.856 | Gen: eway-ehehehay ariaayy oootiioioioiooooooio ay-ioiiiaiiaay oray-iifm-EOSEOSnnaEOSy\n",
            "Epoch:   3 | Train loss: 1.264 | Val loss: 1.731 | Gen: eataayyy aayay incoooooiiayyonny aay iwwwewnwaay\n",
            "Epoch:   4 | Train loss: 1.049 | Val loss: 1.596 | Gen: eearyraayEOSEOSEOSeeey arieray ioictninnnaay ywaywaywaywaywywaayw ilwaiyyy\n",
            "Epoch:   5 | Train loss: 0.957 | Val loss: 1.575 | Gen: ewwewwway iwaayEOSyEOSttwaayy indondinday ywowwwwwywywywywwywy orwoaawayy\n",
            "Epoch:   6 | Train loss: 0.894 | Val loss: 1.554 | Gen: ebtttwwway ittriatbtttiiEOSaay intitttnnngnggaagggy ibbbbbbbbbbbwwwwwiia ettngriay\n",
            "Epoch:   7 | Train loss: 0.821 | Val loss: 1.275 | Gen: etthay aa-ay ondititinginaoyyonnn ayaasy otingray-aayy\n",
            "Epoch:   8 | Train loss: 0.656 | Val loss: 1.377 | Gen: ettwrray aaayy intttottnnEOSEOSgaaay yssismaay orkingray\n",
            "Exiting early from training.\n",
            "source:\t\tthe air conditioning is working \n",
            "translated:\tehaay iirrwaayaay onditingdingay iswwanwaay iayaay\n"
          ],
          "name": "stdout"
        }
      ]
    },
    {
      "cell_type": "code",
      "metadata": {
        "id": "R18s80gzC6A8",
        "colab_type": "code",
        "colab": {
          "base_uri": "https://localhost:8080/",
          "height": 50
        },
        "outputId": "902fa866-b32a-452b-a09b-0e56896caac6"
      },
      "source": [
        "TEST_SENTENCE = 'the air conditioning is working'\n",
        "translated = translate_sentence(TEST_SENTENCE, transformer_encoder, transformer_decoder, None, args)\n",
        "print(\"source:\\t\\t{} \\ntranslated:\\t{}\".format(TEST_SENTENCE, translated))"
      ],
      "execution_count": 24,
      "outputs": [
        {
          "output_type": "stream",
          "text": [
            "source:\t\tthe air conditioning is working \n",
            "translated:\tethay airway onditioningcaaEOSy isway orkingway\n"
          ],
          "name": "stdout"
        }
      ]
    },
    {
      "cell_type": "markdown",
      "metadata": {
        "id": "MBnBXRG8mvcn",
        "colab_type": "text"
      },
      "source": [
        "# Optional: Attention Visualizations\n",
        "\n",
        "One of the benefits of using attention is that it allows us to gain insight into the inner workings of the model.\n",
        "\n",
        "By visualizing the attention weights generated for the input tokens in each decoder step, we can see where the model focuses while producing each output token.\n",
        "\n",
        "The code in this section loads the model you trained from the previous section and uses it to translate a given set of words: it prints the translations and display heatmaps to show how attention is used at each step."
      ]
    },
    {
      "cell_type": "markdown",
      "metadata": {
        "id": "JqEC0vN9mvpV",
        "colab_type": "text"
      },
      "source": [
        "## Step 1: Visualize Attention Masks\n",
        "Play around with visualizing attention maps generated by the previous two models you've trained. Inspect visualizations in one success and one failure case for both models. "
      ]
    },
    {
      "cell_type": "code",
      "metadata": {
        "id": "Dkfz-u-MtudL",
        "colab_type": "code",
        "colab": {
          "base_uri": "https://localhost:8080/",
          "height": 323
        },
        "outputId": "f3dc862b-1771-47b7-907b-dd2941ca2729"
      },
      "source": [
        "TEST_WORD_ATTN = 'street'\n",
        "visualize_attention(TEST_WORD_ATTN, rnn_attn_encoder, rnn_attn_decoder, None, args)"
      ],
      "execution_count": 25,
      "outputs": [
        {
          "output_type": "display_data",
          "data": {
            "image/png": "[encoded data removed]",
            "text/plain": [
              "<Figure size 432x288 with 2 Axes>"
            ]
          },
          "metadata": {
            "tags": []
          }
        },
        {
          "output_type": "execute_result",
          "data": {
            "text/plain": [
              "'eetstray'"
            ]
          },
          "metadata": {
            "tags": []
          },
          "execution_count": 25
        }
      ]
    },
    {
      "cell_type": "code",
      "metadata": {
        "id": "Ssa7g35zt2yj",
        "colab_type": "code",
        "colab": {
          "base_uri": "https://localhost:8080/",
          "height": 874
        },
        "outputId": "2a90e8b0-6c30-4cf2-eb2f-8e912485e63e"
      },
      "source": [
        "TEST_WORD_ATTN = 'street'\n",
        "visualize_attention(TEST_WORD_ATTN, transformer_encoder, transformer_decoder, None, args, )"
      ],
      "execution_count": 26,
      "outputs": [
        {
          "output_type": "display_data",
          "data": {
            "image/png": "[encoded data removed]",
            "text/plain": [
              "<Figure size 432x288 with 2 Axes>"
            ]
          },
          "metadata": {
            "tags": []
          }
        },
        {
          "output_type": "display_data",
          "data": {
            "image/png": "[encoded data removed]",
            "text/plain": [
              "<Figure size 432x288 with 2 Axes>"
            ]
          },
          "metadata": {
            "tags": []
          }
        },
        {
          "output_type": "display_data",
          "data": {
            "image/png": "[encoded data removed]",
            "text/plain": [
              "<Figure size 432x288 with 2 Axes>"
            ]
          },
          "metadata": {
            "tags": []
          }
        },
        {
          "output_type": "execute_result",
          "data": {
            "text/plain": [
              "'eetstray'"
            ]
          },
          "metadata": {
            "tags": []
          },
          "execution_count": 26
        }
      ]
    },
    {
      "cell_type": "code",
      "metadata": {
        "id": "owstslMF-wdN",
        "colab_type": "code",
        "colab": {}
      },
      "source": [
        ""
      ],
      "execution_count": 0,
      "outputs": []
    }
  ]
}